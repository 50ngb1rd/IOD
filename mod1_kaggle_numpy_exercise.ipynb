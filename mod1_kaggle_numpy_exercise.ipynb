{
 "cells": [
  {
   "cell_type": "markdown",
   "metadata": {},
   "source": [
    "# Numpy Tutorial Exercise\n",
    "This notebook explores the concepts listed out in \"NumPy Tutorial For Beginner\" on Kaggle (link:https://www.kaggle.com/abdullahsahin/numpy-tutorial-for-beginner/data)\n"
   ]
  },
  {
   "cell_type": "markdown",
   "metadata": {},
   "source": [
    "importing the right libraries"
   ]
  },
  {
   "cell_type": "code",
   "execution_count": 2,
   "metadata": {},
   "outputs": [],
   "source": [
    "import pandas as pd \n",
    "import numpy as np"
   ]
  },
  {
   "cell_type": "markdown",
   "metadata": {},
   "source": [
    "creating the arrays using numpy's array creation method"
   ]
  },
  {
   "cell_type": "code",
   "execution_count": 12,
   "metadata": {},
   "outputs": [
    {
     "name": "stdout",
     "output_type": "stream",
     "text": [
      "a:  [1 2 3]\n",
      "b: [[1 2 3]\n",
      " [4 5 6]]\n"
     ]
    }
   ],
   "source": [
    "# array creation and print to show successful creation\n",
    "a = np.array([1,2,3])\n",
    "b = np.array([(1,2,3), (4,5,6)])\n",
    "print('a: ', a )\n",
    "print('b:', b)"
   ]
  },
  {
   "cell_type": "markdown",
   "metadata": {},
   "source": [
    "testing out ndarray class attributes on arrays a & b"
   ]
  },
  {
   "cell_type": "code",
   "execution_count": 14,
   "metadata": {
    "scrolled": true
   },
   "outputs": [
    {
     "name": "stdout",
     "output_type": "stream",
     "text": [
      "a's ndim 1\n",
      "a's shape (3,)\n",
      "a's size 3\n",
      "a's dtype int32\n",
      "a's itemsize 4\n",
      "\n",
      "\n",
      "b's ndim 2\n",
      "b's shape (2, 3)\n",
      "b's size 6\n",
      "b's dtype int32\n",
      "b's itemsize 4\n"
     ]
    }
   ],
   "source": [
    "print(\"a's ndim {}\".format(a.ndim))\n",
    "print(\"a's shape {}\".format(a.shape))\n",
    "print(\"a's size {}\".format(a.size))\n",
    "print(\"a's dtype {}\".format(a.dtype))\n",
    "print(\"a's itemsize {}\".format(a.itemsize))\n",
    "print('\\n')\n",
    "print(\"b's ndim {}\".format(b.ndim))\n",
    "print(\"b's shape {}\".format(b.shape))\n",
    "print(\"b's size {}\".format(b.size))\n",
    "print(\"b's dtype {}\".format(b.dtype))\n",
    "print(\"b's itemsize {}\".format(b.itemsize))"
   ]
  },
  {
   "cell_type": "markdown",
   "metadata": {},
   "source": [
    "creating an array with a specific datatype"
   ]
  },
  {
   "cell_type": "code",
   "execution_count": 18,
   "metadata": {},
   "outputs": [
    {
     "data": {
      "text/plain": [
       "array([[1.+0.j, 2.+0.j],\n",
       "       [3.+0.j, 4.+0.j]])"
      ]
     },
     "execution_count": 18,
     "metadata": {},
     "output_type": "execute_result"
    }
   ],
   "source": [
    "c = np.array([[1,2], [3,4]], dtype = complex)\n",
    "c"
   ]
  },
  {
   "cell_type": "markdown",
   "metadata": {},
   "source": [
    "Creating specific arrays using numpy helper functions"
   ]
  },
  {
   "cell_type": "code",
   "execution_count": 42,
   "metadata": {
    "scrolled": true
   },
   "outputs": [
    {
     "name": "stdout",
     "output_type": "stream",
     "text": [
      "np.zeroes((2,3)) = \n",
      " [[0. 0. 0.]\n",
      " [0. 0. 0.]] \n",
      "\n",
      "np.ones((2,3)) = \n",
      " [[1. 1. 1.]\n",
      " [1. 1. 1.]] \n",
      "\n",
      "np.empty((2,3)) = \n",
      " [[1. 1. 1.]\n",
      " [1. 1. 1.]] \n",
      "\n",
      "np.empty((2,3)) = \n",
      " [1.  1.3 1.6 1.9] \n",
      "\n",
      "np.linspace((1,2,4)) = \n",
      " [1.         1.16666667 1.33333333 1.5        1.66666667 1.83333333\n",
      " 2.        ] \n",
      "\n",
      "np.random.random((2,3)) = \n",
      "[[0.00271714 0.4094504  0.1751226 ]\n",
      " [0.60689835 0.02926264 0.07202671]]\n",
      "\n"
     ]
    }
   ],
   "source": [
    "# creating a 2x3 array using the zeros function \n",
    "a = np.zeros((2,3))\n",
    "print('np.zeroes((2,3)) = \\n {} \\n'.format(a))\n",
    "\n",
    "# creating the 2x3 array using the oens function\n",
    "b = np.ones((2,3))\n",
    "print('np.ones((2,3)) = \\n {} \\n'.format(b))\n",
    "\n",
    "# Creating a 2x3 empty array\n",
    "c = np.empty((2,3))\n",
    "print('np.empty((2,3)) = \\n {} \\n'.format(c))\n",
    "\n",
    "# creating a simple array using the arange function\n",
    "\n",
    "d = np.arange(1,2,0.3)\n",
    "print('np.empty((2,3)) = \\n {} \\n'.format(d))\n",
    "\n",
    "# creating an array using the linspace function \n",
    "\n",
    "e = np.linspace(1,2,7)\n",
    "print('np.linspace((1,2,4)) = \\n {} \\n'.format(e))\n",
    "\n",
    "#creating a 2x3 array usnig the random fucntion \n",
    "\n",
    "f = np.random.random((2,3))\n",
    "print('np.random.random((2,3)) = \\n{}\\n'.format(f))\n"
   ]
  },
  {
   "cell_type": "markdown",
   "metadata": {},
   "source": [
    "# Shape and Operations "
   ]
  },
  {
   "cell_type": "markdown",
   "metadata": {},
   "source": [
    "this section will showcase the different functions in numpy that can be sued to generate new data structures based on an existing array"
   ]
  },
  {
   "cell_type": "markdown",
   "metadata": {},
   "source": [
    "First, we will initalise some test arrays"
   ]
  },
  {
   "cell_type": "code",
   "execution_count": 66,
   "metadata": {},
   "outputs": [
    {
     "name": "stdout",
     "output_type": "stream",
     "text": [
      "zero_line = \n",
      "[[0. 0. 0.]]\n",
      "\n",
      "one_column = \n",
      "[[1.]\n",
      " [1.]\n",
      " [1.]]\n",
      "\n",
      "a = \n",
      "[[1 2 3]\n",
      " [4 5 6]]\n",
      "\n",
      "b = \n",
      "[11 12 13 14 15 16 17 18 19]\n",
      "\n"
     ]
    }
   ],
   "source": [
    "zero_line = np.zeros((1,3))\n",
    "one_column = np.ones((3,1))\n",
    "print(\"zero_line = \\n{}\\n\".format(zero_line))\n",
    "print(\"one_column = \\n{}\\n\".format(one_column))\n",
    "\n",
    "a = np.array([(1,2,3), (4,5,6)])\n",
    "b = np.arange(11, 20)\n",
    "print(\"a = \\n{}\\n\".format(a))\n",
    "print(\"b = \\n{}\\n\".format(b))"
   ]
  },
  {
   "cell_type": "markdown",
   "metadata": {},
   "source": [
    "Reshaping an array.\n",
    "note: using -1 will tell python to infer the values from the length of the array and any remaining dimensions"
   ]
  },
  {
   "cell_type": "code",
   "execution_count": 68,
   "metadata": {
    "scrolled": true
   },
   "outputs": [
    {
     "name": "stdout",
     "output_type": "stream",
     "text": [
      "[[11 12 13]\n",
      " [14 15 16]\n",
      " [17 18 19]]\n"
     ]
    }
   ],
   "source": [
    "# changing b to a 3x3 array\n",
    "b = np.reshape(b,(3,-1))\n",
    "print(b)\n"
   ]
  },
  {
   "cell_type": "markdown",
   "metadata": {},
   "source": [
    "Stacking 3 arrays vertically on top of each other to create a new array"
   ]
  },
  {
   "cell_type": "code",
   "execution_count": 70,
   "metadata": {
    "scrolled": true
   },
   "outputs": [
    {
     "name": "stdout",
     "output_type": "stream",
     "text": [
      "[[ 1.  2.  3.]\n",
      " [ 4.  5.  6.]\n",
      " [11. 12. 13.]\n",
      " [14. 15. 16.]\n",
      " [17. 18. 19.]\n",
      " [ 0.  0.  0.]]\n"
     ]
    }
   ],
   "source": [
    "# stacking array a,b and zero_line to create a new array\n",
    "c = np.vstack((a,b, zero_line))\n",
    "print(c)"
   ]
  },
  {
   "cell_type": "markdown",
   "metadata": {},
   "source": [
    "Stacking 3 arrays horizontally to create a new array"
   ]
  },
  {
   "cell_type": "code",
   "execution_count": 92,
   "metadata": {
    "scrolled": true
   },
   "outputs": [
    {
     "name": "stdout",
     "output_type": "stream",
     "text": [
      "[[ 1.  2. 11. 12. 13.  1.]\n",
      " [ 3.  4. 14. 15. 16.  1.]\n",
      " [ 5.  6. 17. 18. 19.  1.]]\n"
     ]
    }
   ],
   "source": [
    "# need to reshape first as to use the stack functions, arrays must be compatible else throws an error\n",
    "a = np.reshape(a, (3,2))\n",
    "\n",
    "d = np.hstack((a,b,one_column))\n",
    "print(d)"
   ]
  },
  {
   "cell_type": "markdown",
   "metadata": {},
   "source": [
    "Splitting an array horizontally, function will fail if value provided does not result in an equal division "
   ]
  },
  {
   "cell_type": "code",
   "execution_count": 94,
   "metadata": {
    "scrolled": true
   },
   "outputs": [
    {
     "name": "stdout",
     "output_type": "stream",
     "text": [
      "[array([[ 1.,  2., 11., 12., 13.,  1.]]), array([[ 3.,  4., 14., 15., 16.,  1.]]), array([[ 5.,  6., 17., 18., 19.,  1.]])]\n",
      "\n",
      "\n",
      "The sub array at index 1 is:\n",
      " [[ 3.  4. 14. 15. 16.  1.]]\n"
     ]
    }
   ],
   "source": [
    "# splitting d into 3 sub arrays, creating a list object\n",
    "e = np.split(d, 3)\n",
    "print(e)\n",
    "print('\\n')\n",
    "# selecting a specific sub array\n",
    "print('The sub array at index 1 is:\\n {}'.format(e[1]))"
   ]
  },
  {
   "cell_type": "markdown",
   "metadata": {},
   "source": [
    "Splitting an array vetically"
   ]
  },
  {
   "cell_type": "code",
   "execution_count": 96,
   "metadata": {
    "scrolled": true
   },
   "outputs": [
    {
     "name": "stdout",
     "output_type": "stream",
     "text": [
      "[array([[ 1.,  2., 11., 12., 13.,  1.]]), array([[ 3.,  4., 14., 15., 16.,  1.]]), array([[ 5.,  6., 17., 18., 19.,  1.]])]\n"
     ]
    }
   ],
   "source": [
    "g = np.vsplit(d,3)\n",
    "print(g)"
   ]
  },
  {
   "cell_type": "markdown",
   "metadata": {},
   "source": [
    "# Indexing in a numpy array"
   ]
  },
  {
   "cell_type": "markdown",
   "metadata": {},
   "source": [
    "Indexing a one dimensional array"
   ]
  },
  {
   "cell_type": "code",
   "execution_count": 98,
   "metadata": {
    "scrolled": true
   },
   "outputs": [
    {
     "name": "stdout",
     "output_type": "stream",
     "text": [
      "base_data\n",
      "=[100 101 102 103 104 105 106 107 108 109 110 111 112 113 114 115 116 117\n",
      " 118 119 120 121 122 123 124 125 126 127 128 129 130 131 132 133 134 135\n",
      " 136 137 138 139 140 141 142 143 144 145 146 147 148 149 150 151 152 153\n",
      " 154 155 156 157 158 159 160 161 162 163 164 165 166 167 168 169 170 171\n",
      " 172 173 174 175 176 177 178 179 180 181 182 183 184 185 186 187 188 189\n",
      " 190 191 192 193 194 195 196 197 198 199]\n",
      "\n",
      "base_data[10] = 110\n",
      "\n"
     ]
    }
   ],
   "source": [
    "# creating the array\n",
    "base_data = np.arange(100, 200)\n",
    "print(\"base_data\\n={}\\n\".format(base_data))\n",
    "\n",
    "# retrieve value at index 10\n",
    "print(\"base_data[10] = {}\\n\".format(base_data[10]))"
   ]
  },
  {
   "cell_type": "markdown",
   "metadata": {},
   "source": [
    "We can also use the selections and transform them into a 2D array"
   ]
  },
  {
   "cell_type": "code",
   "execution_count": 102,
   "metadata": {},
   "outputs": [
    {
     "name": "stdout",
     "output_type": "stream",
     "text": [
      "[[ 1  2]\n",
      " [10 20]]\n",
      "[[101 102]\n",
      " [110 120]]\n"
     ]
    }
   ],
   "source": [
    "a = np.array([[1,2], [10,20]])\n",
    "print(a)\n",
    "print(base_data[a])"
   ]
  },
  {
   "cell_type": "markdown",
   "metadata": {},
   "source": [
    "Indexing multi-dimensional arrays"
   ]
  },
  {
   "cell_type": "code",
   "execution_count": 109,
   "metadata": {
    "scrolled": true
   },
   "outputs": [
    {
     "name": "stdout",
     "output_type": "stream",
     "text": [
      "base_data after reshape: \n",
      "[[100 101 102 103 104 105 106 107 108 109]\n",
      " [110 111 112 113 114 115 116 117 118 119]\n",
      " [120 121 122 123 124 125 126 127 128 129]\n",
      " [130 131 132 133 134 135 136 137 138 139]\n",
      " [140 141 142 143 144 145 146 147 148 149]\n",
      " [150 151 152 153 154 155 156 157 158 159]\n",
      " [160 161 162 163 164 165 166 167 168 169]\n",
      " [170 171 172 173 174 175 176 177 178 179]\n",
      " [180 181 182 183 184 185 186 187 188 189]\n",
      " [190 191 192 193 194 195 196 197 198 199]]\n",
      "\n",
      "base_data2[2]: \n",
      "[120 121 122 123 124 125 126 127 128 129]\n",
      "\n",
      "base_data2[2,3]: \n",
      "123\n",
      "\n"
     ]
    }
   ],
   "source": [
    "# reshaping the base data array into a 2D array\n",
    "base_data2 = np.reshape(base_data, (10,-1))\n",
    "\n",
    "print('base_data after reshape: \\n{}\\n'.format(base_data2))\n",
    "\n",
    "# inserting one subscript as an arguement returns back an array \n",
    "print('base_data2[2]: \\n{}\\n'.format(base_data2[2]))\n",
    "\n",
    "# inserting two subscripts as arguements wil return back the value\n",
    "print('base_data2[2,3]: \\n{}\\n'.format(base_data2[2,3]))"
   ]
  },
  {
   "cell_type": "markdown",
   "metadata": {},
   "source": [
    "Return multiple values using indexing"
   ]
  },
  {
   "cell_type": "code",
   "execution_count": 110,
   "metadata": {
    "scrolled": true
   },
   "outputs": [
    {
     "name": "stdout",
     "output_type": "stream",
     "text": [
      "base_data2[2, :]] = \n",
      "[120 121 122 123 124 125 126 127 128 129]\n",
      "\n",
      "base_data2[:, 3]] = \n",
      "[103 113 123 133 143 153 163 173 183 193]\n",
      "\n",
      "base_data2[2:5, 2:4]] = \n",
      "[[122 123]\n",
      " [132 133]\n",
      " [142 143]]\n",
      "\n"
     ]
    }
   ],
   "source": [
    "print(\"base_data2[2, :]] = \\n{}\\n\".format(base_data2[2, :]))\n",
    "print(\"base_data2[:, 3]] = \\n{}\\n\".format(base_data2[:, 3]))\n",
    "print(\"base_data2[2:5, 2:4]] = \\n{}\\n\".format(base_data2[2:5, 2:4]))"
   ]
  },
  {
   "cell_type": "markdown",
   "metadata": {},
   "source": [
    "# Mathematical functions in numpy"
   ]
  },
  {
   "cell_type": "markdown",
   "metadata": {},
   "source": [
    "Below is the application of mathematical functions available in numpy. To demonstrate, a base_data array is created using the random function"
   ]
  },
  {
   "cell_type": "code",
   "execution_count": 120,
   "metadata": {
    "scrolled": true
   },
   "outputs": [
    {
     "name": "stdout",
     "output_type": "stream",
     "text": [
      "np.amin(base_data) = -42.773784717053154\n",
      "np.amax(base_data) = 46.32359679098792\n",
      "np.average(base_data) = -1.4752988278531518\n",
      "np.sum(base_data) = -36.882470696328795\n",
      "np.sin(base_data) = \n",
      "[[ 0.42500984  0.87072595 -0.99950376 -0.96778709 -0.8022638 ]\n",
      " [-0.37279273  0.20743988  0.36224048  0.7175602  -0.99675073]\n",
      " [-0.94622169  0.99445498  0.29174428  0.31392861 -0.29368977]\n",
      " [ 0.74833623  0.53788704  0.74143246 -0.82314571 -0.81603347]\n",
      " [ 0.2409957  -0.00478448  0.98053296  0.93508983  0.09610782]]\n",
      "Sqrt:  [1.         1.41421356 1.73205081 2.         2.23606798 2.44948974\n",
      " 2.64575131 2.82842712 3.         3.16227766 3.31662479 3.46410162\n",
      " 3.60555128 3.74165739 3.87298335 4.         4.12310563 4.24264069\n",
      " 4.35889894]\n",
      "\n",
      "\n",
      "Exp:  [2.71828183e+00 7.38905610e+00 2.00855369e+01 5.45981500e+01\n",
      " 1.48413159e+02 4.03428793e+02 1.09663316e+03 2.98095799e+03\n",
      " 8.10308393e+03 2.20264658e+04 5.98741417e+04 1.62754791e+05\n",
      " 4.42413392e+05 1.20260428e+06 3.26901737e+06 8.88611052e+06\n",
      " 2.41549528e+07 6.56599691e+07 1.78482301e+08]\n",
      "\n",
      "\n",
      "Sin:  [ 0.84147098  0.90929743  0.14112001 -0.7568025  -0.95892427 -0.2794155\n",
      "  0.6569866   0.98935825  0.41211849 -0.54402111 -0.99999021 -0.53657292\n",
      "  0.42016704  0.99060736  0.65028784 -0.28790332 -0.96139749 -0.75098725\n",
      "  0.14987721]\n",
      "\n",
      "\n",
      "Cos:  [ 0.54030231 -0.41614684 -0.9899925  -0.65364362  0.28366219  0.96017029\n",
      "  0.75390225 -0.14550003 -0.91113026 -0.83907153  0.0044257   0.84385396\n",
      "  0.90744678  0.13673722 -0.75968791 -0.95765948 -0.27516334  0.66031671\n",
      "  0.98870462]\n",
      "\n",
      "\n",
      "Log:  [0.         0.69314718 1.09861229 1.38629436 1.60943791 1.79175947\n",
      " 1.94591015 2.07944154 2.19722458 2.30258509 2.39789527 2.48490665\n",
      " 2.56494936 2.63905733 2.7080502  2.77258872 2.83321334 2.89037176\n",
      " 2.94443898]\n",
      "\n",
      "\n",
      "Sum:  190\n",
      "\n",
      "\n",
      "Std:  5.477225575051661\n"
     ]
    }
   ],
   "source": [
    "base_data = (np.random.random((5,5)) -0.5)*100\n",
    "\n",
    "# Min\n",
    "print(\"np.amin(base_data) = {}\".format(np.amin(base_data)))\n",
    "\n",
    "# Max\n",
    "print(\"np.amax(base_data) = {}\".format(np.amax(base_data)))\n",
    "\n",
    "# Average\n",
    "print(\"np.average(base_data) = {}\".format(np.average(base_data)))\n",
    "\n",
    "# Sum\n",
    "print(\"np.sum(base_data) = {}\".format(np.sum(base_data)))\n",
    "\n",
    "# Trigonometry (Sin)\n",
    "print(\"np.sin(base_data) = \\n{}\".format(np.sin(base_data)))\n",
    "\n",
    "arr = np.arange(1,20)\n",
    "\n",
    "# squareroot of each value\n",
    "print(\"Sqrt: \",np.sqrt(arr))\n",
    "print('\\n')\n",
    "\n",
    "# Exponential of each value\n",
    "print(\"Exp: \",np.exp(arr)) \n",
    "print('\\n')\n",
    "\n",
    "# Sin of each value\n",
    "print(\"Sin: \",np.sin(arr)) \n",
    "print('\\n')\n",
    "\n",
    "# Cos of each value\n",
    "print(\"Cos: \",np.cos(arr)) \n",
    "print('\\n')\n",
    "\n",
    "# log of each value\n",
    "print(\"Log: \",np.log(arr)) \n",
    "print('\\n')\n",
    "\n",
    "# sum of each value\n",
    "print(\"Sum: \",np.sum(arr)) \n",
    "print('\\n')\n",
    "\n",
    "#std of each value\n",
    "print(\"Std: \",np.std(arr)) "
   ]
  },
  {
   "cell_type": "markdown",
   "metadata": {},
   "source": [
    "Mathematical operations can also be performed on the arrays themselves (e.g. adding an array to another array). Somw examples are below:"
   ]
  },
  {
   "cell_type": "code",
   "execution_count": 121,
   "metadata": {},
   "outputs": [
    {
     "name": "stdout",
     "output_type": "stream",
     "text": [
      "Multpiles:  [  1   4   9  16  25  36  49  64  81 100 121 144 169 196 225 256 289 324\n",
      " 361]\n",
      "Substracts:  [0 0 0 0 0 0 0 0 0 0 0 0 0 0 0 0 0 0 0]\n",
      "Add:  [ 2  4  6  8 10 12 14 16 18 20 22 24 26 28 30 32 34 36 38]\n",
      "Divide:  [1. 1. 1. 1. 1. 1. 1. 1. 1. 1. 1. 1. 1. 1. 1. 1. 1. 1. 1.]\n",
      "Add +50:  [51 52 53 54 55 56 57 58 59 60 61 62 63 64 65 66 67 68 69]\n"
     ]
    }
   ],
   "source": [
    "arr = np.arange(1,20)\n",
    "\n",
    "# Multiply an array by itself\n",
    "arr = arr * arr              \n",
    "print(\"Multpiles: \",arr)\n",
    "\n",
    "# Subtract an array from itself\n",
    "arr = arr - arr             \n",
    "print(\"Substracts: \",arr)\n",
    "\n",
    "arr = np.arange(1,20)\n",
    "\n",
    "# add an array to itself\n",
    "arr = arr + arr              \n",
    "print(\"Add: \",arr)\n",
    "\n",
    "# Divide an array by itself\n",
    "arr = arr / arr             \n",
    "print(\"Divide: \",arr)\n",
    "arr = np.arange(1,20)\n",
    "\n",
    "# add 50 to every value in the array\n",
    "arr = arr + 50\n",
    "print(\"Add +50: \",arr)"
   ]
  },
  {
   "cell_type": "markdown",
   "metadata": {},
   "source": [
    "# Performing matrix operations using numpy"
   ]
  },
  {
   "cell_type": "markdown",
   "metadata": {},
   "source": [
    "numpy can also be used to performed common matrix oeprations. Below are examples of the transpose function and dot product"
   ]
  },
  {
   "cell_type": "code",
   "execution_count": 122,
   "metadata": {
    "scrolled": true
   },
   "outputs": [
    {
     "name": "stdout",
     "output_type": "stream",
     "text": [
      "base_data = \n",
      "[[ 27.  43. -19.   6.  27.]\n",
      " [ 34. -15.  19.  41. -11.]\n",
      " [ -2. -41. -44.  45. -39.]\n",
      " [ 41. -45. -32.  34.  30.]\n",
      " [ 18.   8. -42. -31.  -6.]]\n",
      "\n",
      "base_data.T = \n",
      "[[ 27.  34.  -2.  41.  18.]\n",
      " [ 43. -15. -41. -45.   8.]\n",
      " [-19.  19. -44. -32. -42.]\n",
      " [  6.  41.  45.  34. -31.]\n",
      " [ 27. -11. -39.  30.  -6.]]\n",
      "\n",
      "base_data.transpose() = \n",
      "[[ 27.  34.  -2.  41.  18.]\n",
      " [ 43. -15. -41. -45.   8.]\n",
      " [-19.  19. -44. -32. -42.]\n",
      " [  6.  41.  45.  34. -31.]\n",
      " [ 27. -11. -39.  30.  -6.]]\n",
      "\n",
      "matrix_one = \n",
      "[[1. 1. 1. 1. 1.]\n",
      " [1. 1. 1. 1. 1.]\n",
      " [1. 1. 1. 1. 1.]\n",
      " [1. 1. 1. 1. 1.]\n",
      " [1. 1. 1. 1. 1.]]\n",
      "\n",
      "minus_one = \n",
      "[[-1. -1. -1. -1. -1.]\n",
      " [-1. -1. -1. -1. -1.]\n",
      " [-1. -1. -1. -1. -1.]\n",
      " [-1. -1. -1. -1. -1.]\n",
      " [-1. -1. -1. -1. -1.]]\n",
      "\n",
      "np.dot(base_data, minus_one) = \n",
      "[[-84. -84. -84. -84. -84.]\n",
      " [-68. -68. -68. -68. -68.]\n",
      " [ 81.  81.  81.  81.  81.]\n",
      " [-28. -28. -28. -28. -28.]\n",
      " [ 53.  53.  53.  53.  53.]]\n",
      "\n"
     ]
    }
   ],
   "source": [
    "# create a random array\n",
    "base_data = np.floor((np.random.random((5, 5)) - 0.5) * 100)\n",
    "print(\"base_data = \\n{}\\n\".format(base_data))\n",
    "\n",
    "# get the matrix transpose\n",
    "print(\"base_data.T = \\n{}\\n\".format(base_data.T))\n",
    "print(\"base_data.transpose() = \\n{}\\n\".format(base_data.transpose()))\n",
    "\n",
    "# create another matrix to be used for the dot product\n",
    "matrix_one = np.ones((5, 5))\n",
    "print(\"matrix_one = \\n{}\\n\".format(matrix_one))\n",
    "\n",
    "# perform dot product for the two matrices\n",
    "minus_one = np.dot(matrix_one, -1)\n",
    "print(\"minus_one = \\n{}\\n\".format(minus_one))\n",
    "\n",
    "# perform dot product on base_data matrix and minus_one\n",
    "\n",
    "print(\"np.dot(base_data, minus_one) = \\n{}\\n\".format(\n",
    "    np.dot(base_data, minus_one)))\n"
   ]
  },
  {
   "cell_type": "markdown",
   "metadata": {},
   "source": [
    "# Uses of Random numbers "
   ]
  },
  {
   "cell_type": "markdown",
   "metadata": {},
   "source": [
    "numpy's random library can be used in a variety of ways. Below are the applications for 4 different functions"
   ]
  },
  {
   "cell_type": "markdown",
   "metadata": {},
   "source": [
    "print 20 random numbers with a range of 0-1.0"
   ]
  },
  {
   "cell_type": "code",
   "execution_count": 123,
   "metadata": {
    "scrolled": true
   },
   "outputs": [
    {
     "name": "stdout",
     "output_type": "stream",
     "text": [
      "random: [0.84156518 0.87343231 0.75341543 0.63988996 0.89893109 0.19477564\n",
      " 0.54286268 0.26720282 0.74795781 0.96412822 0.54729982 0.03637789\n",
      " 0.66410261 0.35592256 0.29868035 0.1860991  0.86170488 0.25734649\n",
      " 0.1700311  0.58131986]\n",
      "\n"
     ]
    }
   ],
   "source": [
    "print(\"random: {}\\n\".format(np.random.random(20)));"
   ]
  },
  {
   "cell_type": "markdown",
   "metadata": {},
   "source": [
    "print random numbers based on a specified array shape"
   ]
  },
  {
   "cell_type": "code",
   "execution_count": 124,
   "metadata": {
    "scrolled": true
   },
   "outputs": [
    {
     "name": "stdout",
     "output_type": "stream",
     "text": [
      "rand: [[0.15645718 0.09019691 0.00118179 0.7021553 ]\n",
      " [0.23401941 0.7698776  0.10824072 0.15735031]\n",
      " [0.98611968 0.64745237 0.06832753 0.91567562]]\n",
      "\n"
     ]
    }
   ],
   "source": [
    "print(\"rand: {}\\n\".format(np.random.rand(3, 4)));"
   ]
  },
  {
   "cell_type": "markdown",
   "metadata": {},
   "source": [
    "print a specified number of random numbers within a specified range"
   ]
  },
  {
   "cell_type": "code",
   "execution_count": 126,
   "metadata": {
    "scrolled": true
   },
   "outputs": [
    {
     "name": "stdout",
     "output_type": "stream",
     "text": [
      "randint: [72 71 44 75 66 55 26 56 72 23 90 34 34 80 36 43 77 41 50 78]\n",
      "\n"
     ]
    }
   ],
   "source": [
    "print(\"randint: {}\\n\".format(np.random.randint(0, 100, 20)));"
   ]
  },
  {
   "cell_type": "markdown",
   "metadata": {},
   "source": [
    "disordering a squence for an existing array"
   ]
  },
  {
   "cell_type": "code",
   "execution_count": 127,
   "metadata": {
    "scrolled": true
   },
   "outputs": [
    {
     "name": "stdout",
     "output_type": "stream",
     "text": [
      "permutation: [17 12 14 18  4 13 15  1  2  5  6  7  9 19  8  3 10 11  0 16]\n",
      "\n"
     ]
    }
   ],
   "source": [
    "print(\"permutation: {}\\n\".format(np.random.permutation(np.arange(20))));"
   ]
  },
  {
   "cell_type": "markdown",
   "metadata": {},
   "source": [
    "# End of notebook"
   ]
  }
 ],
 "metadata": {
  "kernelspec": {
   "display_name": "Python 3",
   "language": "python",
   "name": "python3"
  },
  "language_info": {
   "codemirror_mode": {
    "name": "ipython",
    "version": 3
   },
   "file_extension": ".py",
   "mimetype": "text/x-python",
   "name": "python",
   "nbconvert_exporter": "python",
   "pygments_lexer": "ipython3",
   "version": "3.8.5"
  }
 },
 "nbformat": 4,
 "nbformat_minor": 4
}
