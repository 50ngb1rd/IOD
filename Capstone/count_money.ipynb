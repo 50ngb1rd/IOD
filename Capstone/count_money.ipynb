{
 "cells": [
  {
   "cell_type": "code",
   "execution_count": null,
   "metadata": {},
   "outputs": [],
   "source": []
  },
  {
   "cell_type": "markdown",
   "metadata": {},
   "source": [
    "\"b' CUDNN_HALF=1 \\\\r\\\\nnet.optimized_memory = 0 \\\\r\\\\nmini_batch = 1, batch = 32, time_steps = 1, train = 0 \\\\r\\\\nCreate CUDA-stream - 0 \\\\r\\\\n Create cudnn-handle 0 \\\\r\\\\nnms_kind: greedynms (1), beta = 0.600000 \\\\r\\\\nnms_kind: greedynms (1), beta = 0.600000 \\\\r\\\\nnms_kind: greedynms (1), beta = 0.600000 \\\\r\\\\n\\\\r\\\\n seen 64, trained: 1408 K-images (22 Kilo-batches_64) \\\\r\\\\n Detection layer: 139 - type = 28 \\\\r\\\\n Detection layer: 150 - type = 28 \\\\r\\\\n Detection layer: 161 - type = 28 \\\\r\\\\ndata/test_2_multiple.jpg: Predicted in 23.874000 milli-seconds.\\\\r\\\\n0.5: 99%\\\\r\\\\n1: 88%\\\\r\\\\n0.5: 100%\\\\r\\\\n'\""
   ]
  },
  {
   "cell_type": "code",
   "execution_count": 1,
   "metadata": {},
   "outputs": [],
   "source": [
    "import subprocess\n",
    "import re"
   ]
  },
  {
   "cell_type": "code",
   "execution_count": 150,
   "metadata": {},
   "outputs": [],
   "source": [
    "result = subprocess.run('darknet.exe detector test data/obj.data yolov4-dollars.cfg backup/dollars/yolov4-dollars_last.weights -dont_show data/test_2_multiple.jpg', capture_output = True)"
   ]
  },
  {
   "cell_type": "code",
   "execution_count": 151,
   "metadata": {
    "scrolled": true
   },
   "outputs": [],
   "source": [
    "result = result.stdout"
   ]
  },
  {
   "cell_type": "code",
   "execution_count": 152,
   "metadata": {},
   "outputs": [],
   "source": [
    "result = str(result)"
   ]
  },
  {
   "cell_type": "code",
   "execution_count": 153,
   "metadata": {},
   "outputs": [
    {
     "data": {
      "text/plain": [
       "\"b' CUDNN_HALF=1 \\\\r\\\\nnet.optimized_memory = 0 \\\\r\\\\nmini_batch = 1, batch = 32, time_steps = 1, train = 0 \\\\r\\\\nCreate CUDA-stream - 0 \\\\r\\\\n Create cudnn-handle 0 \\\\r\\\\nnms_kind: greedynms (1), beta = 0.600000 \\\\r\\\\nnms_kind: greedynms (1), beta = 0.600000 \\\\r\\\\nnms_kind: greedynms (1), beta = 0.600000 \\\\r\\\\n\\\\r\\\\n seen 64, trained: 1408 K-images (22 Kilo-batches_64) \\\\r\\\\n Detection layer: 139 - type = 28 \\\\r\\\\n Detection layer: 150 - type = 28 \\\\r\\\\n Detection layer: 161 - type = 28 \\\\r\\\\ndata/test_2_multiple.jpg: Predicted in 23.874000 milli-seconds.\\\\r\\\\n0.5: 99%\\\\r\\\\n1: 88%\\\\r\\\\n0.5: 100%\\\\r\\\\n'\""
      ]
     },
     "execution_count": 153,
     "metadata": {},
     "output_type": "execute_result"
    }
   ],
   "source": [
    "result"
   ]
  },
  {
   "cell_type": "code",
   "execution_count": 154,
   "metadata": {},
   "outputs": [],
   "source": [
    "result = result.replace(\"\\\\r\", \"\")"
   ]
  },
  {
   "cell_type": "code",
   "execution_count": 155,
   "metadata": {},
   "outputs": [],
   "source": [
    "result = result.replace(\"\\\\n\", \" \")"
   ]
  },
  {
   "cell_type": "code",
   "execution_count": 156,
   "metadata": {},
   "outputs": [],
   "source": [
    "result_list = re.split('\\s', result)"
   ]
  },
  {
   "cell_type": "code",
   "execution_count": 157,
   "metadata": {
    "scrolled": true
   },
   "outputs": [
    {
     "data": {
      "text/plain": [
       "[\"b'\",\n",
       " 'CUDNN_HALF=1',\n",
       " '',\n",
       " 'net.optimized_memory',\n",
       " '=',\n",
       " '0',\n",
       " '',\n",
       " 'mini_batch',\n",
       " '=',\n",
       " '1,',\n",
       " 'batch',\n",
       " '=',\n",
       " '32,',\n",
       " 'time_steps',\n",
       " '=',\n",
       " '1,',\n",
       " 'train',\n",
       " '=',\n",
       " '0',\n",
       " '',\n",
       " 'Create',\n",
       " 'CUDA-stream',\n",
       " '-',\n",
       " '0',\n",
       " '',\n",
       " '',\n",
       " 'Create',\n",
       " 'cudnn-handle',\n",
       " '0',\n",
       " '',\n",
       " 'nms_kind:',\n",
       " 'greedynms',\n",
       " '(1),',\n",
       " 'beta',\n",
       " '=',\n",
       " '0.600000',\n",
       " '',\n",
       " 'nms_kind:',\n",
       " 'greedynms',\n",
       " '(1),',\n",
       " 'beta',\n",
       " '=',\n",
       " '0.600000',\n",
       " '',\n",
       " 'nms_kind:',\n",
       " 'greedynms',\n",
       " '(1),',\n",
       " 'beta',\n",
       " '=',\n",
       " '0.600000',\n",
       " '',\n",
       " '',\n",
       " '',\n",
       " 'seen',\n",
       " '64,',\n",
       " 'trained:',\n",
       " '1408',\n",
       " 'K-images',\n",
       " '(22',\n",
       " 'Kilo-batches_64)',\n",
       " '',\n",
       " '',\n",
       " 'Detection',\n",
       " 'layer:',\n",
       " '139',\n",
       " '-',\n",
       " 'type',\n",
       " '=',\n",
       " '28',\n",
       " '',\n",
       " '',\n",
       " 'Detection',\n",
       " 'layer:',\n",
       " '150',\n",
       " '-',\n",
       " 'type',\n",
       " '=',\n",
       " '28',\n",
       " '',\n",
       " '',\n",
       " 'Detection',\n",
       " 'layer:',\n",
       " '161',\n",
       " '-',\n",
       " 'type',\n",
       " '=',\n",
       " '28',\n",
       " '',\n",
       " 'data/test_2_multiple.jpg:',\n",
       " 'Predicted',\n",
       " 'in',\n",
       " '23.874000',\n",
       " 'milli-seconds.',\n",
       " '0.5:',\n",
       " '99%',\n",
       " '1:',\n",
       " '88%',\n",
       " '0.5:',\n",
       " '100%',\n",
       " \"'\"]"
      ]
     },
     "execution_count": 157,
     "metadata": {},
     "output_type": "execute_result"
    }
   ],
   "source": [
    "result_list"
   ]
  },
  {
   "cell_type": "code",
   "execution_count": 158,
   "metadata": {},
   "outputs": [
    {
     "name": "stdout",
     "output_type": "stream",
     "text": [
      "'\n",
      "100%\n",
      "0.5:\n",
      "88%\n",
      "1:\n",
      "99%\n",
      "0.5:\n",
      "milli-seconds.\n"
     ]
    }
   ],
   "source": [
    "target_index = None\n",
    "for i in range(len(result_list)-1,0,-1):\n",
    "    print(result_list[i])\n",
    "    if result_list[i] == 'milli-seconds.':\n",
    "        target_index = i\n",
    "        break;\n",
    "    else:\n",
    "        continue\n",
    "        "
   ]
  },
  {
   "cell_type": "code",
   "execution_count": 159,
   "metadata": {},
   "outputs": [
    {
     "data": {
      "text/plain": [
       "92"
      ]
     },
     "execution_count": 159,
     "metadata": {},
     "output_type": "execute_result"
    }
   ],
   "source": [
    "target_index"
   ]
  },
  {
   "cell_type": "code",
   "execution_count": 160,
   "metadata": {},
   "outputs": [],
   "source": [
    "\n",
    "obj_list = []\n",
    "\n",
    "for i in range(target_index +1, len(result_list)):\n",
    "    val = re.sub('[:%]', '', result_list[i])\n",
    "    obj_list.append(val)\n"
   ]
  },
  {
   "cell_type": "code",
   "execution_count": 161,
   "metadata": {},
   "outputs": [
    {
     "data": {
      "text/plain": [
       "\"'\""
      ]
     },
     "execution_count": 161,
     "metadata": {},
     "output_type": "execute_result"
    }
   ],
   "source": [
    "obj_list.pop()"
   ]
  },
  {
   "cell_type": "code",
   "execution_count": 163,
   "metadata": {},
   "outputs": [],
   "source": [
    "for i in range(len(obj_list)):\n",
    "    if i % 2 !=0:\n",
    "        obj_list[i] = float(obj_list[i]) / 100\n",
    "    else:\n",
    "        obj_list[i] = float(obj_list[i])\n",
    "        \n",
    "        \n",
    "final_obj_list = []\n",
    "for i in range(len(obj_list)):\n",
    "    if i%2 == 0:\n",
    "        continue\n",
    "    else:\n",
    "        if obj_list[i] > 0.8:\n",
    "            final_obj_list.append(obj_list[i-1])\n",
    "            final_obj_list.append(obj_list[i])\n",
    "            \n",
    "            \n",
    "total = 0\n",
    "for i in range(len(obj_list)):\n",
    "    if i%2 == 0:\n",
    "        total += obj_list[i]\n",
    "    else:\n",
    "        continue"
   ]
  },
  {
   "cell_type": "code",
   "execution_count": 164,
   "metadata": {},
   "outputs": [
    {
     "data": {
      "text/plain": [
       "2.0"
      ]
     },
     "execution_count": 164,
     "metadata": {},
     "output_type": "execute_result"
    }
   ],
   "source": [
    "total"
   ]
  }
 ],
 "metadata": {
  "kernelspec": {
   "display_name": "Python 3",
   "language": "python",
   "name": "python3"
  },
  "language_info": {
   "codemirror_mode": {
    "name": "ipython",
    "version": 3
   },
   "file_extension": ".py",
   "mimetype": "text/x-python",
   "name": "python",
   "nbconvert_exporter": "python",
   "pygments_lexer": "ipython3",
   "version": "3.8.8"
  }
 },
 "nbformat": 4,
 "nbformat_minor": 4
}
