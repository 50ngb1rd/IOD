{
 "cells": [
  {
   "cell_type": "markdown",
   "metadata": {
    "colab_type": "text",
    "id": "4M2unyfTx9B1"
   },
   "source": [
    "<div>\n",
    "<img src=https://www.institutedata.com/wp-content/uploads/2019/10/iod_h_tp_primary_c.svg width=\"300\">\n",
    "</div>"
   ]
  },
  {
   "cell_type": "markdown",
   "metadata": {
    "colab_type": "text",
    "id": "RqiJTWNJmxTh"
   },
   "source": [
    "# Statistics - part 2"
   ]
  },
  {
   "cell_type": "code",
   "execution_count": 1,
   "metadata": {
    "colab": {},
    "colab_type": "code",
    "id": "LMexHJ6rmxTh"
   },
   "outputs": [],
   "source": [
    "import numpy as np\n",
    "import matplotlib.pyplot as plt\n",
    "from scipy import stats\n",
    "# get matplot to show charts inline\n",
    "%matplotlib inline"
   ]
  },
  {
   "cell_type": "markdown",
   "metadata": {
    "colab_type": "text",
    "id": "77Yt7aCRpUKY"
   },
   "source": [
    "# 1. plot a histogram of a set of observations\n",
    "\n",
    "experiment with various number of bins"
   ]
  },
  {
   "cell_type": "code",
   "execution_count": 3,
   "metadata": {
    "colab": {},
    "colab_type": "code",
    "id": "7PY2pBe8mxTk"
   },
   "outputs": [
    {
     "data": {
      "text/plain": [
       "(array([10.,  7.,  2.,  1.,  1.]),\n",
       " array([  4. ,  23.2,  42.4,  61.6,  80.8, 100. ]),\n",
       " <BarContainer object of 5 artists>)"
      ]
     },
     "execution_count": 3,
     "metadata": {},
     "output_type": "execute_result"
    },
    {
     "data": {
      "image/png": "[encoded data removed]",
      "text/plain": [
       "<Figure size 432x288 with 1 Axes>"
      ]
     },
     "metadata": {
      "needs_background": "light"
     },
     "output_type": "display_data"
    }
   ],
   "source": [
    "# plot a histogram of a set of observations\n",
    "# experiment with various number of bins\n",
    "x = [21,22,23,4,5,6,77,8,9,10,31,32,33,34,35,36,37,18,49,50,100]\n",
    "num_bins = 5\n",
    "\n",
    "plt.hist(x, bins=num_bins)"
   ]
  },
  {
   "cell_type": "markdown",
   "metadata": {
    "colab_type": "text",
    "id": "cRSBy51CpgbC"
   },
   "source": [
    "# 2. Calculate statistical information of a set of observations using numpy and stats\n",
    "```\n",
    "# Expected Output:\n",
    "mean of observations = 28.884615384615383\n",
    "median of observations = 27.0\n",
    "mode of observations = ModeResult(mode=array([10]), count=array([4]))\n",
    "percentile of observations = [10.   27.   35.75]\n",
    "statistical summary of observations = DescribeResult(nobs=26, minmax=(4, 100), mean=28.884615384615383, variance=523.3061538461537, skewness=1.4001632366778733, kurtosis=2.0634808152807826)\n",
    "```"
   ]
  },
  {
   "cell_type": "code",
   "execution_count": 8,
   "metadata": {
    "colab": {},
    "colab_type": "code",
    "id": "odB27dRAmxTn"
   },
   "outputs": [
    {
     "name": "stdout",
     "output_type": "stream",
     "text": [
      "mean of observations = 28.884615384615383\n",
      "median of observations = 27.0\n",
      "mode of observations = ModeResult(mode=array([10]), count=array([4]))\n",
      "percentile of observations [10.   27.   35.75]\n",
      "statistical summary of observations = DescribeResult(nobs=26, minmax=(4, 100), mean=28.884615384615383, variance=523.3061538461537, skewness=1.4001632366778733, kurtosis=2.0634808152807826)\n"
     ]
    }
   ],
   "source": [
    "# calculate statistical information of a set of observations using numpy and stats\n",
    "observations = [21,22,23,4,5,6,77,8,9,10,31,32,33,34,35,36,37,18,49,50,100,10,32,49,10,10]\n",
    "obs_mean = np.mean(observations)\n",
    "obs_median = np.median(observations)\n",
    "obs_mode = stats.mode(observations)\n",
    "obs_percentile = np.percentile(observations, [25,50,75])\n",
    "obs_ss = stats.describe(observations)\n",
    "\n",
    "print(f\"mean of observations = {obs_mean}\")\n",
    "print(f\"median of observations = {obs_median}\")\n",
    "print(f\"mode of observations = {obs_mode}\")\n",
    "print(f\"percentile of observations {obs_percentile}\")\n",
    "print(f\"statistical summary of observations = {obs_ss}\")\n",
    "\n"
   ]
  },
  {
   "cell_type": "markdown",
   "metadata": {
    "colab_type": "text",
    "id": "AGpwG3Mup0iD"
   },
   "source": [
    "# 3. Plot box chart of obstravations"
   ]
  },
  {
   "cell_type": "code",
   "execution_count": 9,
   "metadata": {
    "colab": {},
    "colab_type": "code",
    "id": "JMIEInnMmxTq"
   },
   "outputs": [
    {
     "data": {
      "text/plain": [
       "{'whiskers': [<matplotlib.lines.Line2D at 0x193314ec8b0>,\n",
       "  <matplotlib.lines.Line2D at 0x193314ecc10>],\n",
       " 'caps': [<matplotlib.lines.Line2D at 0x193314ecf70>,\n",
       "  <matplotlib.lines.Line2D at 0x193314f8310>],\n",
       " 'boxes': [<matplotlib.lines.Line2D at 0x193314ec550>],\n",
       " 'medians': [<matplotlib.lines.Line2D at 0x193314f8670>],\n",
       " 'fliers': [<matplotlib.lines.Line2D at 0x193314f89d0>],\n",
       " 'means': []}"
      ]
     },
     "execution_count": 9,
     "metadata": {},
     "output_type": "execute_result"
    },
    {
     "data": {
      "image/png": "[encoded data removed]",
      "text/plain": [
       "<Figure size 432x288 with 1 Axes>"
      ]
     },
     "metadata": {
      "needs_background": "light"
     },
     "output_type": "display_data"
    }
   ],
   "source": [
    "# plot box chart of obstravations\n",
    "observations = [21,22,23,4,5,6,77,8,9,10,31,32,33,34,35,36,37,18,49,50,100,10,32,49,10,10]\n",
    "plt.boxplot(observations)"
   ]
  },
  {
   "cell_type": "markdown",
   "metadata": {
    "colab_type": "text",
    "id": "LcviDI1CqBtM"
   },
   "source": [
    "# 4. Create a Binomial Distribution\n",
    "\n",
    "Lookup stats.binom.pmf\n",
    "\n",
    "What does it do?"
   ]
  },
  {
   "cell_type": "code",
   "execution_count": 0,
   "metadata": {
    "colab": {
     "base_uri": "https://localhost:8080/",
     "height": 367
    },
    "colab_type": "code",
    "executionInfo": {
     "elapsed": 789,
     "status": "ok",
     "timestamp": 1552700227788,
     "user": {
      "displayName": "Ibrahim Faisal",
      "photoUrl": "",
      "userId": "02685917636347920688"
     },
     "user_tz": -660
    },
    "id": "9aQ57ncDJReH",
    "outputId": "986b17b8-e2ff-4d91-f456-0b40c39dea4e"
   },
   "outputs": [
    {
     "name": "stdout",
     "output_type": "stream",
     "text": [
      "Help on method pmf in module scipy.stats._distn_infrastructure:\n",
      "\n",
      "pmf(k, *args, **kwds) method of scipy.stats._discrete_distns.binom_gen instance\n",
      "    Probability mass function at k of the given RV.\n",
      "    \n",
      "    Parameters\n",
      "    ----------\n",
      "    k : array_like\n",
      "        Quantiles.\n",
      "    arg1, arg2, arg3,... : array_like\n",
      "        The shape parameter(s) for the distribution (see docstring of the\n",
      "        instance object for more information)\n",
      "    loc : array_like, optional\n",
      "        Location parameter (default=0).\n",
      "    \n",
      "    Returns\n",
      "    -------\n",
      "    pmf : array_like\n",
      "        Probability mass function evaluated at k\n",
      "\n"
     ]
    }
   ],
   "source": [
    "help(stats.binom.pmf)"
   ]
  },
  {
   "cell_type": "code",
   "execution_count": 0,
   "metadata": {
    "colab": {
     "base_uri": "https://localhost:8080/",
     "height": 352
    },
    "colab_type": "code",
    "executionInfo": {
     "elapsed": 1446,
     "status": "ok",
     "timestamp": 1552703611710,
     "user": {
      "displayName": "Ibrahim Faisal",
      "photoUrl": "",
      "userId": "02685917636347920688"
     },
     "user_tz": -660
    },
    "id": "_vJoZMf2mxTs",
    "outputId": "0e05757d-5262-4151-8a3a-8ab401031fdf"
   },
   "outputs": [
    {
     "name": "stdout",
     "output_type": "stream",
     "text": [
      "[ 0  1  2  3  4  5  6  7  8  9 10 11 12 13 14 15 16 17 18 19]\n",
      "[0.00097656 0.00976563 0.04394531 0.1171875  0.20507813 0.24609375\n",
      " 0.20507813 0.1171875  0.04394531 0.00976563 0.00097656 0.\n",
      " 0.         0.         0.         0.         0.         0.\n",
      " 0.         0.        ]\n"
     ]
    },
    {
     "data": {
      "image/png": "[encoded data removed]",
      "text/plain": [
       "<Figure size 432x288 with 1 Axes>"
      ]
     },
     "metadata": {
      "tags": []
     },
     "output_type": "display_data"
    }
   ],
   "source": [
    "# creating a Binomial Distribution\n",
    "n = 10\n",
    "p = 0.5\n",
    "k = np.arange(0,20)\n",
    "\n",
    "print(k)\n",
    "\n",
    "binomial = stats.binom.pmf(k, n, p)\n",
    "\n",
    "print(binomial)\n",
    "\n",
    "plt.plot(binomial);"
   ]
  },
  {
   "cell_type": "markdown",
   "metadata": {
    "colab_type": "text",
    "id": "HlhkB_IcqU4U"
   },
   "source": [
    "# 5. Create a scatter plot"
   ]
  },
  {
   "cell_type": "code",
   "execution_count": 2,
   "metadata": {
    "colab": {},
    "colab_type": "code",
    "id": "-qx81cWXmxTu"
   },
   "outputs": [
    {
     "data": {
      "text/plain": [
       "<matplotlib.collections.PathCollection at 0x1a5cce291c0>"
      ]
     },
     "execution_count": 2,
     "metadata": {},
     "output_type": "execute_result"
    },
    {
     "data": {
      "image/png": "[encoded data removed]",
      "text/plain": [
       "<Figure size 432x288 with 1 Axes>"
      ]
     },
     "metadata": {
      "needs_background": "light"
     },
     "output_type": "display_data"
    }
   ],
   "source": [
    "import numpy as np\n",
    "import matplotlib.pyplot as plt\n",
    "\n",
    "# Fixing random state for reproducibility\n",
    "np.random.seed(19680801)\n",
    "\n",
    "\n",
    "N = 50\n",
    "x = np.random.rand(N)\n",
    "y = np.random.rand(N)\n",
    "colors = np.random.rand(N)\n",
    "area = (30 * np.random.rand(N))**2  # 0 to 15 point radii\n",
    "\n",
    "plt.scatter(x,y, c= colors)\n"
   ]
  },
  {
   "cell_type": "markdown",
   "metadata": {
    "colab_type": "text",
    "id": "_KQAJyqIqheV"
   },
   "source": [
    "# 6. Calculate and Visualize Correlations\n",
    "\n",
    "NOTE: Lookup np.corrcoef. What does it do?"
   ]
  },
  {
   "cell_type": "code",
   "execution_count": 10,
   "metadata": {
    "colab": {},
    "colab_type": "code",
    "id": "5K4lfLpTmxTw"
   },
   "outputs": [
    {
     "name": "stdout",
     "output_type": "stream",
     "text": [
      "Correlation of x and y is 0.8154390113332429\n"
     ]
    },
    {
     "data": {
      "text/plain": [
       "<matplotlib.collections.PathCollection at 0x1a5cd395970>"
      ]
     },
     "execution_count": 10,
     "metadata": {},
     "output_type": "execute_result"
    },
    {
     "data": {
      "image/png": "[encoded data removed]",
      "text/plain": [
       "<Figure size 432x288 with 1 Axes>"
      ]
     },
     "metadata": {
      "needs_background": "light"
     },
     "output_type": "display_data"
    }
   ],
   "source": [
    "# Calculate and visualise correltions\n",
    "import matplotlib\n",
    "np.random.seed(1)\n",
    "\n",
    "# 1000 random integers between 0 and 50\n",
    "x = np.random.randint(0, 50, 1000)\n",
    "\n",
    "# Positive Correlation with some noise\n",
    "y = x + np.random.normal(0, 10, 1000)\n",
    "\n",
    "xy_corr = np.corrcoef(x,y)\n",
    "print(f\"Correlation of x and y is {xy_corr[0,1]}\")\n",
    "plt.scatter(x,y)"
   ]
  },
  {
   "cell_type": "code",
   "execution_count": 15,
   "metadata": {
    "colab": {
     "base_uri": "https://localhost:8080/",
     "height": 34
    },
    "colab_type": "code",
    "executionInfo": {
     "elapsed": 744,
     "status": "ok",
     "timestamp": 1552692286593,
     "user": {
      "displayName": "Ibrahim Faisal",
      "photoUrl": "",
      "userId": "02685917636347920688"
     },
     "user_tz": -660
    },
    "id": "5EPfgBdDmxTz",
    "outputId": "11f783b4-0a0f-4904-9bc2-b1a6d6e5e56e"
   },
   "outputs": [
    {
     "data": {
      "text/plain": [
       "[<matplotlib.lines.Line2D at 0x1a5cd6f53a0>]"
      ]
     },
     "execution_count": 15,
     "metadata": {},
     "output_type": "execute_result"
    },
    {
     "data": {
      "image/png": "[encoded data removed]",
      "text/plain": [
       "<Figure size 432x288 with 1 Axes>"
      ]
     },
     "metadata": {
      "needs_background": "light"
     },
     "output_type": "display_data"
    }
   ],
   "source": [
    "# Calculate the coefficient of best fit line or curve\n",
    "x = [21,22,23,4,5,6,77,8,9,10,31,32,33,34,35,36,37,18,49,50,100,10,32,49,10,10]\n",
    "y = [88,12,23,3,6,8,9,12,27,36,34,77,60,35,36,37,18,49,50,100,10,32,49,10,10,22]\n",
    "\n",
    "bf = np.polyfit(x,y,1)\n",
    "bf_line = np.poly1d(bf)\n",
    "plt.scatter(x,y)\n",
    "plt.plot(x,bf_line(x))"
   ]
  },
  {
   "cell_type": "markdown",
   "metadata": {
    "colab_type": "text",
    "id": "c6f0e9yXra37"
   },
   "source": [
    "# 7. [BONUS] Plot X, Y and Best Fit Line\n",
    "\n",
    "**Write a function to calculate best fit.**\n",
    "\n",
    "![alt text](https://i.imgur.com/B43vOV0.jpg)[1]\n",
    "\n",
    "[1]: https://www.mathsisfun.com/data/least-squares-regression.html \"Least Squares Regression\""
   ]
  },
  {
   "cell_type": "code",
   "execution_count": 54,
   "metadata": {
    "colab": {},
    "colab_type": "code",
    "id": "-jouTQjemxT1"
   },
   "outputs": [
    {
     "name": "stdout",
     "output_type": "stream",
     "text": [
      "0.92 0.8\n"
     ]
    },
    {
     "data": {
      "text/plain": [
       "[<matplotlib.lines.Line2D at 0x1a5cebca9a0>]"
      ]
     },
     "execution_count": 54,
     "metadata": {},
     "output_type": "execute_result"
    },
    {
     "data": {
      "image/png": "[encoded data removed]",
      "text/plain": [
       "<Figure size 432x288 with 1 Axes>"
      ]
     },
     "metadata": {
      "needs_background": "light"
     },
     "output_type": "display_data"
    }
   ],
   "source": [
    "# sample points \n",
    "X = [0, 5, 10, 15, 20]\n",
    "Y = [0, 7, 10, 13, 20]\n",
    "\n",
    "# solve for a and b\n",
    "def best_fit(X, Y):    \n",
    "    m = 0\n",
    "    b = 0\n",
    "    xy = 0 \n",
    "    x_squared = 0\n",
    "    N = len(X)\n",
    "\n",
    "    \n",
    "    for i in range(len(X)):\n",
    "        xy += (X[i] * Y[i])\n",
    "        x_squared +=  (X[i] ** 2)\n",
    "\n",
    "        \n",
    "    x_total = sum(X)\n",
    "    y_total = sum(Y)\n",
    "    \n",
    "\n",
    "    \n",
    "    m = ((N* xy) - (x_total * y_total)) / ((N*x_squared) - (x_total**2))\n",
    "    b = (y_total - (m * x_total)) / N\n",
    "    \n",
    "    return m, b\n",
    "\n",
    "# solution\n",
    "m, b = best_fit(X, Y)\n",
    "print(m,b)\n",
    "#best fit line:\n",
    "# y = 0.80 + 0.92x\n",
    "\n",
    "def y(X):\n",
    "    y_result = []\n",
    "    for i in range(len(X)):\n",
    "        y = b + (m * X[i])\n",
    "        y_result.append(y)\n",
    "        \n",
    "    return y_result\n",
    "\n",
    "plt.scatter(X,Y)\n",
    "plt.plot(X, y(X))\n",
    "\n",
    "# plot points and fit line"
   ]
  },
  {
   "cell_type": "markdown",
   "metadata": {
    "colab_type": "text",
    "id": "HfL9jnC4txJH"
   },
   "source": [
    "# 8. plot a histogram of a set of observations - centered\n",
    "\n",
    "Experiment with various number of bins\n",
    "\n",
    "        y = x - np.mean(x)"
   ]
  },
  {
   "cell_type": "code",
   "execution_count": 65,
   "metadata": {
    "colab": {},
    "colab_type": "code",
    "id": "bw-YGxBEmxT5"
   },
   "outputs": [
    {
     "data": {
      "text/plain": [
       "(array([6., 4., 2., 5., 2., 0., 0., 1., 0., 1.]),\n",
       " array([-26.47619048, -16.87619048,  -7.27619048,   2.32380952,\n",
       "         11.92380952,  21.52380952,  31.12380952,  40.72380952,\n",
       "         50.32380952,  59.92380952,  69.52380952]),\n",
       " <a list of 10 Patch objects>)"
      ]
     },
     "execution_count": 65,
     "metadata": {},
     "output_type": "execute_result"
    },
    {
     "data": {
      "image/png": "[encoded data removed]",
      "text/plain": [
       "<Figure size 432x288 with 3 Axes>"
      ]
     },
     "metadata": {
      "needs_background": "light"
     },
     "output_type": "display_data"
    }
   ],
   "source": [
    "# plot a histogram of a set of observations - centered\n",
    "# experiment with various number of bins\n",
    "x = [21,22,23,4,5,6,77,8,9,10,31,32,33,34,35,36,37,18,49,50,100]\n",
    "y = []\n",
    "\n",
    "for i in range(len(x)):\n",
    "    y_result = x[i] - np.mean(x)\n",
    "    y.append(y_result)\n",
    "    \n",
    "fig, (ax1,ax2,ax3) = plt.subplots(3,1)\n",
    "ax1.hist(y, bins = 3)\n",
    "ax2.hist(y, bins = 5)\n",
    "ax3.hist(y, bins = 10)\n"
   ]
  },
  {
   "cell_type": "markdown",
   "metadata": {
    "colab_type": "text",
    "id": "IvLbO4hot_oK"
   },
   "source": [
    "# 9. plot a histogram of a set of observations - scaled\n",
    "\n",
    "        y = x / np.std(x)"
   ]
  },
  {
   "cell_type": "code",
   "execution_count": 66,
   "metadata": {
    "colab": {},
    "colab_type": "code",
    "id": "rKkxbfpGmxT7"
   },
   "outputs": [
    {
     "data": {
      "text/plain": [
       "(array([6., 4., 2., 5., 2., 0., 0., 1., 0., 1.]),\n",
       " array([-19.44724382,  -9.84724382,  -0.24724382,   9.35275618,\n",
       "         18.95275618,  28.55275618,  38.15275618,  47.75275618,\n",
       "         57.35275618,  66.95275618,  76.55275618]),\n",
       " <a list of 10 Patch objects>)"
      ]
     },
     "execution_count": 66,
     "metadata": {},
     "output_type": "execute_result"
    },
    {
     "data": {
      "image/png": "[encoded data removed]",
      "text/plain": [
       "<Figure size 432x288 with 3 Axes>"
      ]
     },
     "metadata": {
      "needs_background": "light"
     },
     "output_type": "display_data"
    }
   ],
   "source": [
    "# plot a histogram of a set of observations - scaled\n",
    "# experiment with various number of bins\n",
    "x = [21,22,23,4,5,6,77,8,9,10,31,32,33,34,35,36,37,18,49,50,100]\n",
    "y = []\n",
    "\n",
    "for i in range(len(x)):\n",
    "    y_result = x[i] - np.std(x)\n",
    "    y.append(y_result)\n",
    "\n",
    "fig, (ax1,ax2,ax3) = plt.subplots(3,1)\n",
    "ax1.hist(y, bins = 3)\n",
    "ax2.hist(y, bins = 5)\n",
    "ax3.hist(y, bins = 10)\n"
   ]
  },
  {
   "cell_type": "markdown",
   "metadata": {
    "colab_type": "text",
    "id": "WhM8Zio5uQ65"
   },
   "source": [
    "# 10. [BONUS] Create a probplot against normal distribution\n",
    "\n",
    "Check following methods:\n",
    "\n",
    "1. stats.loggamma.rvs\n",
    "2. stats.probplot\n",
    "3. stats.norm\n",
    "4. stats.boxcox"
   ]
  },
  {
   "cell_type": "code",
   "execution_count": 79,
   "metadata": {
    "colab": {
     "base_uri": "https://localhost:8080/",
     "height": 151
    },
    "colab_type": "code",
    "executionInfo": {
     "elapsed": 723,
     "status": "ok",
     "timestamp": 1552693315169,
     "user": {
      "displayName": "Ibrahim Faisal",
      "photoUrl": "",
      "userId": "02685917636347920688"
     },
     "user_tz": -660
    },
    "id": "2X4WJFBxmxT_",
    "outputId": "8c130b45-aba0-488e-e643-44b4f6d11577"
   },
   "outputs": [
    {
     "name": "stderr",
     "output_type": "stream",
     "text": [
      "<ipython-input-79-9c5f681a222b>:5: MatplotlibDeprecationWarning: Adding an axes using the same arguments as a previous axes currently reuses the earlier instance.  In a future version, a new instance will always be created and returned.  Meanwhile, this warning can be suppressed, and the future behavior ensured, by passing a unique label to each axes instance.\n",
      "  ax2 = fig.add_subplot(211)\n"
     ]
    },
    {
     "data": {
      "text/plain": [
       "((array([-2.99209858e+00, -2.71015927e+00, -2.55162541e+00, -2.43921385e+00,\n",
       "         -2.35113311e+00, -2.27822091e+00, -2.21572267e+00, -2.16084152e+00,\n",
       "         -2.11178767e+00, -2.06734403e+00, -2.02664403e+00, -1.98904794e+00,\n",
       "         -1.95406954e+00, -1.92133033e+00, -1.89052965e+00, -1.86142459e+00,\n",
       "         -1.83381593e+00, -1.80753820e+00, -1.78245240e+00, -1.75844061e+00,\n",
       "         -1.73540186e+00, -1.71324904e+00, -1.69190643e+00, -1.67130780e+00,\n",
       "         -1.65139483e+00, -1.63211595e+00, -1.61342528e+00, -1.59528183e+00,\n",
       "         -1.57764883e+00, -1.56049314e+00, -1.54378481e+00, -1.52749667e+00,\n",
       "         -1.51160399e+00, -1.49608418e+00, -1.48091659e+00, -1.46608224e+00,\n",
       "         -1.45156367e+00, -1.43734479e+00, -1.42341071e+00, -1.40974764e+00,\n",
       "         -1.39634279e+00, -1.38318426e+00, -1.37026095e+00, -1.35756253e+00,\n",
       "         -1.34507932e+00, -1.33280226e+00, -1.32072287e+00, -1.30883317e+00,\n",
       "         -1.29712567e+00, -1.28559331e+00, -1.27422944e+00, -1.26302778e+00,\n",
       "         -1.25198239e+00, -1.24108768e+00, -1.23033831e+00, -1.21972926e+00,\n",
       "         -1.20925574e+00, -1.19891322e+00, -1.18869738e+00, -1.17860411e+00,\n",
       "         -1.16862950e+00, -1.15876983e+00, -1.14902154e+00, -1.13938123e+00,\n",
       "         -1.12984566e+00, -1.12041173e+00, -1.11107648e+00, -1.10183707e+00,\n",
       "         -1.09269077e+00, -1.08363498e+00, -1.07466719e+00, -1.06578501e+00,\n",
       "         -1.05698612e+00, -1.04826831e+00, -1.03962946e+00, -1.03106750e+00,\n",
       "         -1.02258046e+00, -1.01416645e+00, -1.00582364e+00, -9.97550247e-01,\n",
       "         -9.89344581e-01, -9.81204996e-01, -9.73129904e-01, -9.65117774e-01,\n",
       "         -9.57167125e-01, -9.49276525e-01, -9.41444591e-01, -9.33669982e-01,\n",
       "         -9.25951403e-01, -9.18287599e-01, -9.10677353e-01, -9.03119487e-01,\n",
       "         -8.95612861e-01, -8.88156365e-01, -8.80748927e-01, -8.73389502e-01,\n",
       "         -8.66077081e-01, -8.58810678e-01, -8.51589342e-01, -8.44412143e-01,\n",
       "         -8.37278180e-01, -8.30186576e-01, -8.23136480e-01, -8.16127061e-01,\n",
       "         -8.09157513e-01, -8.02227049e-01, -7.95334905e-01, -7.88480336e-01,\n",
       "         -7.81662614e-01, -7.74881033e-01, -7.68134903e-01, -7.61423551e-01,\n",
       "         -7.54746322e-01, -7.48102575e-01, -7.41491685e-01, -7.34913044e-01,\n",
       "         -7.28366057e-01, -7.21850142e-01, -7.15364731e-01, -7.08909270e-01,\n",
       "         -7.02483218e-01, -6.96086043e-01, -6.89717230e-01, -6.83376271e-01,\n",
       "         -6.77062670e-01, -6.70775943e-01, -6.64515617e-01, -6.58281226e-01,\n",
       "         -6.52072317e-01, -6.45888445e-01, -6.39729174e-01, -6.33594076e-01,\n",
       "         -6.27482735e-01, -6.21394740e-01, -6.15329690e-01, -6.09287191e-01,\n",
       "         -6.03266856e-01, -5.97268307e-01, -5.91291174e-01, -5.85335090e-01,\n",
       "         -5.79399700e-01, -5.73484651e-01, -5.67589599e-01, -5.61714207e-01,\n",
       "         -5.55858142e-01, -5.50021077e-01, -5.44202692e-01, -5.38402673e-01,\n",
       "         -5.32620709e-01, -5.26856497e-01, -5.21109737e-01, -5.15380136e-01,\n",
       "         -5.09667405e-01, -5.03971258e-01, -4.98291417e-01, -4.92627606e-01,\n",
       "         -4.86979553e-01, -4.81346993e-01, -4.75729663e-01, -4.70127305e-01,\n",
       "         -4.64539663e-01, -4.58966488e-01, -4.53407532e-01, -4.47862553e-01,\n",
       "         -4.42331309e-01, -4.36813566e-01, -4.31309089e-01, -4.25817651e-01,\n",
       "         -4.20339023e-01, -4.14872983e-01, -4.09419311e-01, -4.03977788e-01,\n",
       "         -3.98548202e-01, -3.93130339e-01, -3.87723992e-01, -3.82328953e-01,\n",
       "         -3.76945020e-01, -3.71571992e-01, -3.66209669e-01, -3.60857856e-01,\n",
       "         -3.55516359e-01, -3.50184986e-01, -3.44863547e-01, -3.39551857e-01,\n",
       "         -3.34249730e-01, -3.28956983e-01, -3.23673435e-01, -3.18398908e-01,\n",
       "         -3.13133223e-01, -3.07876207e-01, -3.02627686e-01, -2.97387487e-01,\n",
       "         -2.92155443e-01, -2.86931384e-01, -2.81715143e-01, -2.76506557e-01,\n",
       "         -2.71305462e-01, -2.66111695e-01, -2.60925097e-01, -2.55745509e-01,\n",
       "         -2.50572773e-01, -2.45406732e-01, -2.40247233e-01, -2.35094122e-01,\n",
       "         -2.29947246e-01, -2.24806454e-01, -2.19671596e-01, -2.14542524e-01,\n",
       "         -2.09419090e-01, -2.04301147e-01, -1.99188550e-01, -1.94081154e-01,\n",
       "         -1.88978816e-01, -1.83881393e-01, -1.78788743e-01, -1.73700727e-01,\n",
       "         -1.68617203e-01, -1.63538032e-01, -1.58463078e-01, -1.53392201e-01,\n",
       "         -1.48325265e-01, -1.43262135e-01, -1.38202675e-01, -1.33146749e-01,\n",
       "         -1.28094226e-01, -1.23044970e-01, -1.17998849e-01, -1.12955731e-01,\n",
       "         -1.07915484e-01, -1.02877978e-01, -9.78430801e-02, -9.28106619e-02,\n",
       "         -8.77805930e-02, -8.27527442e-02, -7.77269864e-02, -7.27031911e-02,\n",
       "         -6.76812301e-02, -6.26609755e-02, -5.76422995e-02, -5.26250751e-02,\n",
       "         -4.76091750e-02, -4.25944724e-02, -3.75808407e-02, -3.25681535e-02,\n",
       "         -2.75562846e-02, -2.25451077e-02, -1.75344969e-02, -1.25243263e-02,\n",
       "         -7.51447003e-03, -2.50480239e-03,  2.50480239e-03,  7.51447003e-03,\n",
       "          1.25243263e-02,  1.75344969e-02,  2.25451077e-02,  2.75562846e-02,\n",
       "          3.25681535e-02,  3.75808407e-02,  4.25944724e-02,  4.76091750e-02,\n",
       "          5.26250751e-02,  5.76422995e-02,  6.26609755e-02,  6.76812301e-02,\n",
       "          7.27031911e-02,  7.77269864e-02,  8.27527442e-02,  8.77805930e-02,\n",
       "          9.28106619e-02,  9.78430801e-02,  1.02877978e-01,  1.07915484e-01,\n",
       "          1.12955731e-01,  1.17998849e-01,  1.23044970e-01,  1.28094226e-01,\n",
       "          1.33146749e-01,  1.38202675e-01,  1.43262135e-01,  1.48325265e-01,\n",
       "          1.53392201e-01,  1.58463078e-01,  1.63538032e-01,  1.68617203e-01,\n",
       "          1.73700727e-01,  1.78788743e-01,  1.83881393e-01,  1.88978816e-01,\n",
       "          1.94081154e-01,  1.99188550e-01,  2.04301147e-01,  2.09419090e-01,\n",
       "          2.14542524e-01,  2.19671596e-01,  2.24806454e-01,  2.29947246e-01,\n",
       "          2.35094122e-01,  2.40247233e-01,  2.45406732e-01,  2.50572773e-01,\n",
       "          2.55745509e-01,  2.60925097e-01,  2.66111695e-01,  2.71305462e-01,\n",
       "          2.76506557e-01,  2.81715143e-01,  2.86931384e-01,  2.92155443e-01,\n",
       "          2.97387487e-01,  3.02627686e-01,  3.07876207e-01,  3.13133223e-01,\n",
       "          3.18398908e-01,  3.23673435e-01,  3.28956983e-01,  3.34249730e-01,\n",
       "          3.39551857e-01,  3.44863547e-01,  3.50184986e-01,  3.55516359e-01,\n",
       "          3.60857856e-01,  3.66209669e-01,  3.71571992e-01,  3.76945020e-01,\n",
       "          3.82328953e-01,  3.87723992e-01,  3.93130339e-01,  3.98548202e-01,\n",
       "          4.03977788e-01,  4.09419311e-01,  4.14872983e-01,  4.20339023e-01,\n",
       "          4.25817651e-01,  4.31309089e-01,  4.36813566e-01,  4.42331309e-01,\n",
       "          4.47862553e-01,  4.53407532e-01,  4.58966488e-01,  4.64539663e-01,\n",
       "          4.70127305e-01,  4.75729663e-01,  4.81346993e-01,  4.86979553e-01,\n",
       "          4.92627606e-01,  4.98291417e-01,  5.03971258e-01,  5.09667405e-01,\n",
       "          5.15380136e-01,  5.21109737e-01,  5.26856497e-01,  5.32620709e-01,\n",
       "          5.38402673e-01,  5.44202692e-01,  5.50021077e-01,  5.55858142e-01,\n",
       "          5.61714207e-01,  5.67589599e-01,  5.73484651e-01,  5.79399700e-01,\n",
       "          5.85335090e-01,  5.91291174e-01,  5.97268307e-01,  6.03266856e-01,\n",
       "          6.09287191e-01,  6.15329690e-01,  6.21394740e-01,  6.27482735e-01,\n",
       "          6.33594076e-01,  6.39729174e-01,  6.45888445e-01,  6.52072317e-01,\n",
       "          6.58281226e-01,  6.64515617e-01,  6.70775943e-01,  6.77062670e-01,\n",
       "          6.83376271e-01,  6.89717230e-01,  6.96086043e-01,  7.02483218e-01,\n",
       "          7.08909270e-01,  7.15364731e-01,  7.21850142e-01,  7.28366057e-01,\n",
       "          7.34913044e-01,  7.41491685e-01,  7.48102575e-01,  7.54746322e-01,\n",
       "          7.61423551e-01,  7.68134903e-01,  7.74881033e-01,  7.81662614e-01,\n",
       "          7.88480336e-01,  7.95334905e-01,  8.02227049e-01,  8.09157513e-01,\n",
       "          8.16127061e-01,  8.23136480e-01,  8.30186576e-01,  8.37278180e-01,\n",
       "          8.44412143e-01,  8.51589342e-01,  8.58810678e-01,  8.66077081e-01,\n",
       "          8.73389502e-01,  8.80748927e-01,  8.88156365e-01,  8.95612861e-01,\n",
       "          9.03119487e-01,  9.10677353e-01,  9.18287599e-01,  9.25951403e-01,\n",
       "          9.33669982e-01,  9.41444591e-01,  9.49276525e-01,  9.57167125e-01,\n",
       "          9.65117774e-01,  9.73129904e-01,  9.81204996e-01,  9.89344581e-01,\n",
       "          9.97550247e-01,  1.00582364e+00,  1.01416645e+00,  1.02258046e+00,\n",
       "          1.03106750e+00,  1.03962946e+00,  1.04826831e+00,  1.05698612e+00,\n",
       "          1.06578501e+00,  1.07466719e+00,  1.08363498e+00,  1.09269077e+00,\n",
       "          1.10183707e+00,  1.11107648e+00,  1.12041173e+00,  1.12984566e+00,\n",
       "          1.13938123e+00,  1.14902154e+00,  1.15876983e+00,  1.16862950e+00,\n",
       "          1.17860411e+00,  1.18869738e+00,  1.19891322e+00,  1.20925574e+00,\n",
       "          1.21972926e+00,  1.23033831e+00,  1.24108768e+00,  1.25198239e+00,\n",
       "          1.26302778e+00,  1.27422944e+00,  1.28559331e+00,  1.29712567e+00,\n",
       "          1.30883317e+00,  1.32072287e+00,  1.33280226e+00,  1.34507932e+00,\n",
       "          1.35756253e+00,  1.37026095e+00,  1.38318426e+00,  1.39634279e+00,\n",
       "          1.40974764e+00,  1.42341071e+00,  1.43734479e+00,  1.45156367e+00,\n",
       "          1.46608224e+00,  1.48091659e+00,  1.49608418e+00,  1.51160399e+00,\n",
       "          1.52749667e+00,  1.54378481e+00,  1.56049314e+00,  1.57764883e+00,\n",
       "          1.59528183e+00,  1.61342528e+00,  1.63211595e+00,  1.65139483e+00,\n",
       "          1.67130780e+00,  1.69190643e+00,  1.71324904e+00,  1.73540186e+00,\n",
       "          1.75844061e+00,  1.78245240e+00,  1.80753820e+00,  1.83381593e+00,\n",
       "          1.86142459e+00,  1.89052965e+00,  1.92133033e+00,  1.95406954e+00,\n",
       "          1.98904794e+00,  2.02664403e+00,  2.06734403e+00,  2.11178767e+00,\n",
       "          2.16084152e+00,  2.21572267e+00,  2.27822091e+00,  2.35113311e+00,\n",
       "          2.43921385e+00,  2.55162541e+00,  2.71015927e+00,  2.99209858e+00]),\n",
       "  array([5.12174301, 5.23450543, 5.23983254, 5.26726353, 5.29051844,\n",
       "         5.30643156, 5.44432288, 5.44886109, 5.45454052, 5.46058809,\n",
       "         5.4929527 , 5.53090813, 5.53265014, 5.56224949, 5.5985066 ,\n",
       "         5.6138007 , 5.62902376, 5.63921822, 5.64415103, 5.65514358,\n",
       "         5.66873342, 5.6734579 , 5.68358649, 5.68675114, 5.6894344 ,\n",
       "         5.69172377, 5.72614918, 5.731428  , 5.73254791, 5.73271973,\n",
       "         5.74768734, 5.76238527, 5.76607004, 5.77029406, 5.77589116,\n",
       "         5.78023485, 5.78080237, 5.78530037, 5.7858667 , 5.79485984,\n",
       "         5.80114962, 5.81715774, 5.82786967, 5.84877086, 5.85857132,\n",
       "         5.87472876, 5.87669349, 5.87862032, 5.88046575, 5.89091725,\n",
       "         5.8919438 , 5.90463143, 5.90988973, 5.91676324, 5.92459917,\n",
       "         5.94849205, 5.95128098, 5.95160947, 5.96227155, 5.96304859,\n",
       "         5.96588717, 5.96617701, 5.97238572, 5.9727151 , 5.97738431,\n",
       "         5.97763181, 5.98011932, 5.98245055, 5.9886336 , 5.99349201,\n",
       "         5.99489953, 5.99701334, 5.99818235, 5.9998367 , 6.00995989,\n",
       "         6.02054994, 6.0208274 , 6.02302933, 6.02864189, 6.03035246,\n",
       "         6.03408496, 6.03979656, 6.04644186, 6.05008331, 6.05198795,\n",
       "         6.05256776, 6.05265041, 6.05402186, 6.06015425, 6.06056919,\n",
       "         6.06106865, 6.07202634, 6.07726879, 6.08175792, 6.08922939,\n",
       "         6.09102209, 6.094125  , 6.09786621, 6.09950728, 6.10150825,\n",
       "         6.10377372, 6.10429604, 6.11361574, 6.12343537, 6.13042446,\n",
       "         6.13092426, 6.13118871, 6.13138125, 6.13360363, 6.14159914,\n",
       "         6.15306908, 6.15360881, 6.1583577 , 6.16185673, 6.16508561,\n",
       "         6.17710151, 6.1776334 , 6.18162384, 6.18506048, 6.19358509,\n",
       "         6.19408966, 6.19516937, 6.20229689, 6.20921513, 6.21829779,\n",
       "         6.22588939, 6.23154321, 6.2362766 , 6.23675473, 6.23757288,\n",
       "         6.23916516, 6.24220893, 6.24433285, 6.24480763, 6.24968609,\n",
       "         6.2532957 , 6.25720867, 6.2588619 , 6.25987127, 6.26426305,\n",
       "         6.26577857, 6.27009237, 6.27016509, 6.27175278, 6.27498954,\n",
       "         6.27954979, 6.28670887, 6.29038509, 6.29039259, 6.29312882,\n",
       "         6.29608274, 6.29683132, 6.30009102, 6.30221954, 6.30447975,\n",
       "         6.30461146, 6.30491765, 6.30715658, 6.30732579, 6.30913798,\n",
       "         6.3120402 , 6.31645112, 6.31761661, 6.31801027, 6.31863728,\n",
       "         6.32139761, 6.32335722, 6.3235954 , 6.32762397, 6.33008836,\n",
       "         6.33457377, 6.33539177, 6.33621903, 6.3377549 , 6.34129343,\n",
       "         6.34129588, 6.34300009, 6.35970469, 6.3615806 , 6.36375571,\n",
       "         6.36580464, 6.36617311, 6.37087109, 6.37159662, 6.37554012,\n",
       "         6.37558476, 6.3771912 , 6.37833944, 6.37999168, 6.38250187,\n",
       "         6.38357053, 6.38612763, 6.38760081, 6.38765901, 6.38819555,\n",
       "         6.39021038, 6.39775462, 6.40274231, 6.40545194, 6.40752733,\n",
       "         6.4099325 , 6.41260851, 6.41313937, 6.41492136, 6.41898019,\n",
       "         6.42290724, 6.42384823, 6.42581073, 6.42880588, 6.43004001,\n",
       "         6.43305958, 6.43726301, 6.43900978, 6.44054671, 6.44361595,\n",
       "         6.4500255 , 6.45116158, 6.45320342, 6.45423886, 6.45508267,\n",
       "         6.46001597, 6.460138  , 6.4620807 , 6.46493738, 6.46720312,\n",
       "         6.46960504, 6.47005181, 6.47042702, 6.47256585, 6.47531079,\n",
       "         6.47598519, 6.48195759, 6.48363289, 6.4901465 , 6.49354631,\n",
       "         6.49475669, 6.49578105, 6.49601898, 6.49833192, 6.50199907,\n",
       "         6.50373142, 6.50427666, 6.50553366, 6.50580804, 6.50637676,\n",
       "         6.51047979, 6.51436435, 6.51937305, 6.5208283 , 6.52317912,\n",
       "         6.52339333, 6.52626225, 6.53213061, 6.53247058, 6.53345864,\n",
       "         6.53372997, 6.53380215, 6.54082117, 6.54545839, 6.54659146,\n",
       "         6.54660432, 6.54706624, 6.54989595, 6.55773222, 6.56189308,\n",
       "         6.5636024 , 6.564247  , 6.57181333, 6.57607286, 6.57637314,\n",
       "         6.57694759, 6.58218756, 6.58436776, 6.59061175, 6.60019515,\n",
       "         6.60031483, 6.60314851, 6.60332016, 6.60880559, 6.61397884,\n",
       "         6.61555422, 6.6166515 , 6.6177303 , 6.61902636, 6.62000939,\n",
       "         6.62194136, 6.62276619, 6.62330512, 6.62487398, 6.62490622,\n",
       "         6.62518209, 6.62575668, 6.62872265, 6.62873297, 6.62996163,\n",
       "         6.63201308, 6.63283296, 6.63309187, 6.63423609, 6.63946007,\n",
       "         6.64024765, 6.64401725, 6.64553366, 6.64677247, 6.6534391 ,\n",
       "         6.65470636, 6.65594538, 6.65744657, 6.66169206, 6.66211691,\n",
       "         6.66363963, 6.66426793, 6.66549151, 6.66563022, 6.66609679,\n",
       "         6.67083904, 6.67247181, 6.67321689, 6.67401934, 6.67446897,\n",
       "         6.68367341, 6.68731329, 6.69006057, 6.69068545, 6.69274326,\n",
       "         6.6964895 , 6.70120921, 6.70169698, 6.70538734, 6.7104486 ,\n",
       "         6.71262829, 6.71325517, 6.71425559, 6.71619371, 6.71853294,\n",
       "         6.72224428, 6.72816809, 6.7282152 , 6.73017292, 6.73154161,\n",
       "         6.73558983, 6.74479564, 6.74799555, 6.74974388, 6.75132342,\n",
       "         6.75249752, 6.76222681, 6.76567605, 6.76904139, 6.76911974,\n",
       "         6.77659307, 6.78515985, 6.78647443, 6.78701235, 6.78928559,\n",
       "         6.78939859, 6.79000576, 6.79211302, 6.79347958, 6.79415839,\n",
       "         6.80079126, 6.80163482, 6.80178209, 6.80186577, 6.80377733,\n",
       "         6.80566663, 6.80840381, 6.80937618, 6.80960902, 6.81370879,\n",
       "         6.81525348, 6.82660556, 6.82820091, 6.82978319, 6.83737271,\n",
       "         6.83909333, 6.84050474, 6.84468929, 6.8488426 , 6.84946091,\n",
       "         6.84992475, 6.85373032, 6.85967156, 6.86048602, 6.86259701,\n",
       "         6.86358871, 6.86397808, 6.86463323, 6.86682302, 6.87021513,\n",
       "         6.87142614, 6.87229225, 6.87272702, 6.874246  , 6.87534771,\n",
       "         6.87547181, 6.87749116, 6.88625147, 6.88828193, 6.893401  ,\n",
       "         6.89460722, 6.90325615, 6.90489664, 6.90571807, 6.91160462,\n",
       "         6.91216622, 6.91542587, 6.91549372, 6.91809488, 6.91846244,\n",
       "         6.91925594, 6.91970979, 6.92727856, 6.93174125, 6.9318786 ,\n",
       "         6.93307323, 6.93323184, 6.93500964, 6.9379078 , 6.93822202,\n",
       "         6.94152402, 6.94515572, 6.94587541, 6.95436366, 6.95444519,\n",
       "         6.95814882, 6.96177311, 6.96379568, 6.96465276, 6.97178385,\n",
       "         6.97338579, 6.97863924, 6.9819934 , 6.98345927, 6.98473817,\n",
       "         6.98983686, 6.99520324, 6.99802278, 7.00214457, 7.0110269 ,\n",
       "         7.01320857, 7.01433176, 7.01483699, 7.0210505 , 7.02398492,\n",
       "         7.02547412, 7.02792342, 7.03038289, 7.0319577 , 7.03282764,\n",
       "         7.03585662, 7.04728252, 7.0566919 , 7.05833112, 7.06327234,\n",
       "         7.07272831, 7.07378672, 7.07771698, 7.08311335, 7.08686281,\n",
       "         7.09432763, 7.09554691, 7.09728151, 7.1082975 , 7.11558218,\n",
       "         7.12235221, 7.13207304, 7.13918046, 7.14369075, 7.1545347 ,\n",
       "         7.16690232, 7.17728099, 7.18001763, 7.18811851, 7.19096592,\n",
       "         7.2194477 , 7.2208677 , 7.23377593, 7.23688867, 7.24532404,\n",
       "         7.25009866, 7.25185187, 7.26332054, 7.26492171, 7.26769718,\n",
       "         7.26897698, 7.2707211 , 7.28030297, 7.29235486, 7.32948518,\n",
       "         7.33724597, 7.34518339, 7.35112613, 7.35141548, 7.36766151,\n",
       "         7.37693058, 7.46861817, 7.54165706, 7.56507526, 7.76168767])),\n",
       " (0.45199652187548023, 6.499135898799781, 0.9962254259704814))"
      ]
     },
     "execution_count": 79,
     "metadata": {},
     "output_type": "execute_result"
    },
    {
     "data": {
      "image/png": "[encoded data removed]",
      "text/plain": [
       "<Figure size 432x288 with 1 Axes>"
      ]
     },
     "metadata": {
      "needs_background": "light"
     },
     "output_type": "display_data"
    }
   ],
   "source": [
    "from scipy import stats\n",
    "import matplotlib.pyplot as plt\n",
    "fig = plt.figure()\n",
    "ax1 = fig.add_subplot(211)\n",
    "ax2 = fig.add_subplot(211)\n",
    "x = stats.loggamma.rvs(5, size=500) + 5\n",
    "stats.probplot(x, dist = stats.norm, plot = ax1)\n"
   ]
  },
  {
   "cell_type": "code",
   "execution_count": 83,
   "metadata": {},
   "outputs": [
    {
     "data": {
      "text/plain": [
       "((array([-2.99209858e+00, -2.71015927e+00, -2.55162541e+00, -2.43921385e+00,\n",
       "         -2.35113311e+00, -2.27822091e+00, -2.21572267e+00, -2.16084152e+00,\n",
       "         -2.11178767e+00, -2.06734403e+00, -2.02664403e+00, -1.98904794e+00,\n",
       "         -1.95406954e+00, -1.92133033e+00, -1.89052965e+00, -1.86142459e+00,\n",
       "         -1.83381593e+00, -1.80753820e+00, -1.78245240e+00, -1.75844061e+00,\n",
       "         -1.73540186e+00, -1.71324904e+00, -1.69190643e+00, -1.67130780e+00,\n",
       "         -1.65139483e+00, -1.63211595e+00, -1.61342528e+00, -1.59528183e+00,\n",
       "         -1.57764883e+00, -1.56049314e+00, -1.54378481e+00, -1.52749667e+00,\n",
       "         -1.51160399e+00, -1.49608418e+00, -1.48091659e+00, -1.46608224e+00,\n",
       "         -1.45156367e+00, -1.43734479e+00, -1.42341071e+00, -1.40974764e+00,\n",
       "         -1.39634279e+00, -1.38318426e+00, -1.37026095e+00, -1.35756253e+00,\n",
       "         -1.34507932e+00, -1.33280226e+00, -1.32072287e+00, -1.30883317e+00,\n",
       "         -1.29712567e+00, -1.28559331e+00, -1.27422944e+00, -1.26302778e+00,\n",
       "         -1.25198239e+00, -1.24108768e+00, -1.23033831e+00, -1.21972926e+00,\n",
       "         -1.20925574e+00, -1.19891322e+00, -1.18869738e+00, -1.17860411e+00,\n",
       "         -1.16862950e+00, -1.15876983e+00, -1.14902154e+00, -1.13938123e+00,\n",
       "         -1.12984566e+00, -1.12041173e+00, -1.11107648e+00, -1.10183707e+00,\n",
       "         -1.09269077e+00, -1.08363498e+00, -1.07466719e+00, -1.06578501e+00,\n",
       "         -1.05698612e+00, -1.04826831e+00, -1.03962946e+00, -1.03106750e+00,\n",
       "         -1.02258046e+00, -1.01416645e+00, -1.00582364e+00, -9.97550247e-01,\n",
       "         -9.89344581e-01, -9.81204996e-01, -9.73129904e-01, -9.65117774e-01,\n",
       "         -9.57167125e-01, -9.49276525e-01, -9.41444591e-01, -9.33669982e-01,\n",
       "         -9.25951403e-01, -9.18287599e-01, -9.10677353e-01, -9.03119487e-01,\n",
       "         -8.95612861e-01, -8.88156365e-01, -8.80748927e-01, -8.73389502e-01,\n",
       "         -8.66077081e-01, -8.58810678e-01, -8.51589342e-01, -8.44412143e-01,\n",
       "         -8.37278180e-01, -8.30186576e-01, -8.23136480e-01, -8.16127061e-01,\n",
       "         -8.09157513e-01, -8.02227049e-01, -7.95334905e-01, -7.88480336e-01,\n",
       "         -7.81662614e-01, -7.74881033e-01, -7.68134903e-01, -7.61423551e-01,\n",
       "         -7.54746322e-01, -7.48102575e-01, -7.41491685e-01, -7.34913044e-01,\n",
       "         -7.28366057e-01, -7.21850142e-01, -7.15364731e-01, -7.08909270e-01,\n",
       "         -7.02483218e-01, -6.96086043e-01, -6.89717230e-01, -6.83376271e-01,\n",
       "         -6.77062670e-01, -6.70775943e-01, -6.64515617e-01, -6.58281226e-01,\n",
       "         -6.52072317e-01, -6.45888445e-01, -6.39729174e-01, -6.33594076e-01,\n",
       "         -6.27482735e-01, -6.21394740e-01, -6.15329690e-01, -6.09287191e-01,\n",
       "         -6.03266856e-01, -5.97268307e-01, -5.91291174e-01, -5.85335090e-01,\n",
       "         -5.79399700e-01, -5.73484651e-01, -5.67589599e-01, -5.61714207e-01,\n",
       "         -5.55858142e-01, -5.50021077e-01, -5.44202692e-01, -5.38402673e-01,\n",
       "         -5.32620709e-01, -5.26856497e-01, -5.21109737e-01, -5.15380136e-01,\n",
       "         -5.09667405e-01, -5.03971258e-01, -4.98291417e-01, -4.92627606e-01,\n",
       "         -4.86979553e-01, -4.81346993e-01, -4.75729663e-01, -4.70127305e-01,\n",
       "         -4.64539663e-01, -4.58966488e-01, -4.53407532e-01, -4.47862553e-01,\n",
       "         -4.42331309e-01, -4.36813566e-01, -4.31309089e-01, -4.25817651e-01,\n",
       "         -4.20339023e-01, -4.14872983e-01, -4.09419311e-01, -4.03977788e-01,\n",
       "         -3.98548202e-01, -3.93130339e-01, -3.87723992e-01, -3.82328953e-01,\n",
       "         -3.76945020e-01, -3.71571992e-01, -3.66209669e-01, -3.60857856e-01,\n",
       "         -3.55516359e-01, -3.50184986e-01, -3.44863547e-01, -3.39551857e-01,\n",
       "         -3.34249730e-01, -3.28956983e-01, -3.23673435e-01, -3.18398908e-01,\n",
       "         -3.13133223e-01, -3.07876207e-01, -3.02627686e-01, -2.97387487e-01,\n",
       "         -2.92155443e-01, -2.86931384e-01, -2.81715143e-01, -2.76506557e-01,\n",
       "         -2.71305462e-01, -2.66111695e-01, -2.60925097e-01, -2.55745509e-01,\n",
       "         -2.50572773e-01, -2.45406732e-01, -2.40247233e-01, -2.35094122e-01,\n",
       "         -2.29947246e-01, -2.24806454e-01, -2.19671596e-01, -2.14542524e-01,\n",
       "         -2.09419090e-01, -2.04301147e-01, -1.99188550e-01, -1.94081154e-01,\n",
       "         -1.88978816e-01, -1.83881393e-01, -1.78788743e-01, -1.73700727e-01,\n",
       "         -1.68617203e-01, -1.63538032e-01, -1.58463078e-01, -1.53392201e-01,\n",
       "         -1.48325265e-01, -1.43262135e-01, -1.38202675e-01, -1.33146749e-01,\n",
       "         -1.28094226e-01, -1.23044970e-01, -1.17998849e-01, -1.12955731e-01,\n",
       "         -1.07915484e-01, -1.02877978e-01, -9.78430801e-02, -9.28106619e-02,\n",
       "         -8.77805930e-02, -8.27527442e-02, -7.77269864e-02, -7.27031911e-02,\n",
       "         -6.76812301e-02, -6.26609755e-02, -5.76422995e-02, -5.26250751e-02,\n",
       "         -4.76091750e-02, -4.25944724e-02, -3.75808407e-02, -3.25681535e-02,\n",
       "         -2.75562846e-02, -2.25451077e-02, -1.75344969e-02, -1.25243263e-02,\n",
       "         -7.51447003e-03, -2.50480239e-03,  2.50480239e-03,  7.51447003e-03,\n",
       "          1.25243263e-02,  1.75344969e-02,  2.25451077e-02,  2.75562846e-02,\n",
       "          3.25681535e-02,  3.75808407e-02,  4.25944724e-02,  4.76091750e-02,\n",
       "          5.26250751e-02,  5.76422995e-02,  6.26609755e-02,  6.76812301e-02,\n",
       "          7.27031911e-02,  7.77269864e-02,  8.27527442e-02,  8.77805930e-02,\n",
       "          9.28106619e-02,  9.78430801e-02,  1.02877978e-01,  1.07915484e-01,\n",
       "          1.12955731e-01,  1.17998849e-01,  1.23044970e-01,  1.28094226e-01,\n",
       "          1.33146749e-01,  1.38202675e-01,  1.43262135e-01,  1.48325265e-01,\n",
       "          1.53392201e-01,  1.58463078e-01,  1.63538032e-01,  1.68617203e-01,\n",
       "          1.73700727e-01,  1.78788743e-01,  1.83881393e-01,  1.88978816e-01,\n",
       "          1.94081154e-01,  1.99188550e-01,  2.04301147e-01,  2.09419090e-01,\n",
       "          2.14542524e-01,  2.19671596e-01,  2.24806454e-01,  2.29947246e-01,\n",
       "          2.35094122e-01,  2.40247233e-01,  2.45406732e-01,  2.50572773e-01,\n",
       "          2.55745509e-01,  2.60925097e-01,  2.66111695e-01,  2.71305462e-01,\n",
       "          2.76506557e-01,  2.81715143e-01,  2.86931384e-01,  2.92155443e-01,\n",
       "          2.97387487e-01,  3.02627686e-01,  3.07876207e-01,  3.13133223e-01,\n",
       "          3.18398908e-01,  3.23673435e-01,  3.28956983e-01,  3.34249730e-01,\n",
       "          3.39551857e-01,  3.44863547e-01,  3.50184986e-01,  3.55516359e-01,\n",
       "          3.60857856e-01,  3.66209669e-01,  3.71571992e-01,  3.76945020e-01,\n",
       "          3.82328953e-01,  3.87723992e-01,  3.93130339e-01,  3.98548202e-01,\n",
       "          4.03977788e-01,  4.09419311e-01,  4.14872983e-01,  4.20339023e-01,\n",
       "          4.25817651e-01,  4.31309089e-01,  4.36813566e-01,  4.42331309e-01,\n",
       "          4.47862553e-01,  4.53407532e-01,  4.58966488e-01,  4.64539663e-01,\n",
       "          4.70127305e-01,  4.75729663e-01,  4.81346993e-01,  4.86979553e-01,\n",
       "          4.92627606e-01,  4.98291417e-01,  5.03971258e-01,  5.09667405e-01,\n",
       "          5.15380136e-01,  5.21109737e-01,  5.26856497e-01,  5.32620709e-01,\n",
       "          5.38402673e-01,  5.44202692e-01,  5.50021077e-01,  5.55858142e-01,\n",
       "          5.61714207e-01,  5.67589599e-01,  5.73484651e-01,  5.79399700e-01,\n",
       "          5.85335090e-01,  5.91291174e-01,  5.97268307e-01,  6.03266856e-01,\n",
       "          6.09287191e-01,  6.15329690e-01,  6.21394740e-01,  6.27482735e-01,\n",
       "          6.33594076e-01,  6.39729174e-01,  6.45888445e-01,  6.52072317e-01,\n",
       "          6.58281226e-01,  6.64515617e-01,  6.70775943e-01,  6.77062670e-01,\n",
       "          6.83376271e-01,  6.89717230e-01,  6.96086043e-01,  7.02483218e-01,\n",
       "          7.08909270e-01,  7.15364731e-01,  7.21850142e-01,  7.28366057e-01,\n",
       "          7.34913044e-01,  7.41491685e-01,  7.48102575e-01,  7.54746322e-01,\n",
       "          7.61423551e-01,  7.68134903e-01,  7.74881033e-01,  7.81662614e-01,\n",
       "          7.88480336e-01,  7.95334905e-01,  8.02227049e-01,  8.09157513e-01,\n",
       "          8.16127061e-01,  8.23136480e-01,  8.30186576e-01,  8.37278180e-01,\n",
       "          8.44412143e-01,  8.51589342e-01,  8.58810678e-01,  8.66077081e-01,\n",
       "          8.73389502e-01,  8.80748927e-01,  8.88156365e-01,  8.95612861e-01,\n",
       "          9.03119487e-01,  9.10677353e-01,  9.18287599e-01,  9.25951403e-01,\n",
       "          9.33669982e-01,  9.41444591e-01,  9.49276525e-01,  9.57167125e-01,\n",
       "          9.65117774e-01,  9.73129904e-01,  9.81204996e-01,  9.89344581e-01,\n",
       "          9.97550247e-01,  1.00582364e+00,  1.01416645e+00,  1.02258046e+00,\n",
       "          1.03106750e+00,  1.03962946e+00,  1.04826831e+00,  1.05698612e+00,\n",
       "          1.06578501e+00,  1.07466719e+00,  1.08363498e+00,  1.09269077e+00,\n",
       "          1.10183707e+00,  1.11107648e+00,  1.12041173e+00,  1.12984566e+00,\n",
       "          1.13938123e+00,  1.14902154e+00,  1.15876983e+00,  1.16862950e+00,\n",
       "          1.17860411e+00,  1.18869738e+00,  1.19891322e+00,  1.20925574e+00,\n",
       "          1.21972926e+00,  1.23033831e+00,  1.24108768e+00,  1.25198239e+00,\n",
       "          1.26302778e+00,  1.27422944e+00,  1.28559331e+00,  1.29712567e+00,\n",
       "          1.30883317e+00,  1.32072287e+00,  1.33280226e+00,  1.34507932e+00,\n",
       "          1.35756253e+00,  1.37026095e+00,  1.38318426e+00,  1.39634279e+00,\n",
       "          1.40974764e+00,  1.42341071e+00,  1.43734479e+00,  1.45156367e+00,\n",
       "          1.46608224e+00,  1.48091659e+00,  1.49608418e+00,  1.51160399e+00,\n",
       "          1.52749667e+00,  1.54378481e+00,  1.56049314e+00,  1.57764883e+00,\n",
       "          1.59528183e+00,  1.61342528e+00,  1.63211595e+00,  1.65139483e+00,\n",
       "          1.67130780e+00,  1.69190643e+00,  1.71324904e+00,  1.73540186e+00,\n",
       "          1.75844061e+00,  1.78245240e+00,  1.80753820e+00,  1.83381593e+00,\n",
       "          1.86142459e+00,  1.89052965e+00,  1.92133033e+00,  1.95406954e+00,\n",
       "          1.98904794e+00,  2.02664403e+00,  2.06734403e+00,  2.11178767e+00,\n",
       "          2.16084152e+00,  2.21572267e+00,  2.27822091e+00,  2.35113311e+00,\n",
       "          2.43921385e+00,  2.55162541e+00,  2.71015927e+00,  2.99209858e+00]),\n",
       "  array([25.9951624 , 27.52285216, 27.59633041, 27.97657067, 28.30139123,\n",
       "         28.52497108, 30.50715228, 30.5737621 , 30.65724629, 30.74629364,\n",
       "         31.22550642, 31.79322971, 31.81943486, 32.26670098, 32.81973353,\n",
       "         33.0547252 , 33.28963527, 33.44751202, 33.52406664, 33.69504708,\n",
       "         33.90715567, 33.98108382, 34.13990419, 34.18961921, 34.23180614,\n",
       "         34.26782518, 34.81221921, 34.89615739, 34.91398068, 34.91671583,\n",
       "         35.15546698, 35.39087719, 35.45004397, 35.51794342, 35.6080359 ,\n",
       "         35.67804854, 35.68720205, 35.75980123, 35.76894823, 35.91439129,\n",
       "         36.01632648, 36.27655317, 36.45132054, 36.79379617, 36.95505085,\n",
       "         37.22183691, 37.25435728, 37.28626705, 37.31684424, 37.49030434,\n",
       "         37.5073679 , 37.71865489, 37.80643251, 37.92135981, 38.05263754,\n",
       "         38.45462371, 38.50171319, 38.50726193, 38.68762384, 38.70078839,\n",
       "         38.74890261, 38.75381741, 38.8591902 , 38.86478518, 38.9441515 ,\n",
       "         38.94836117, 38.99068626, 39.03037743, 39.13576827, 39.21870141,\n",
       "         39.24274774, 39.27887726, 39.2988667 , 39.32716592, 39.50060191,\n",
       "         39.68253263, 39.68730617, 39.72520051, 39.82188981, 39.85138678,\n",
       "         39.91579562, 40.01447873, 40.12948027, 40.19258313, 40.22561263,\n",
       "         40.2356709 , 40.23710468, 40.26090215, 40.36741658, 40.37462985,\n",
       "         40.38331353, 40.57411031, 40.66558594, 40.74401628, 40.87475506,\n",
       "         40.90616225, 40.96055843, 41.02620272, 41.05501763, 41.09016846,\n",
       "         41.12998765, 41.13917157, 41.30324923, 41.4765575 , 41.60017779,\n",
       "         41.60902678, 41.61370924, 41.61711852, 41.65648373, 41.79829579,\n",
       "         42.00224344, 42.01185534, 42.096484  , 42.15890543, 42.21655749,\n",
       "         42.43152315, 42.44105396, 42.51259991, 42.57427522, 42.72749601,\n",
       "         42.73657557, 42.75600861, 42.88442683, 43.00929856, 43.1735721 ,\n",
       "         43.31116988, 43.41381813, 43.49986909, 43.50856702, 43.52345294,\n",
       "         43.55243284, 43.60786252, 43.6465665 , 43.65522118, 43.74421037,\n",
       "         43.81012514, 43.88164745, 43.91188717, 43.93035593, 44.01076876,\n",
       "         44.0385385 , 44.11764098, 44.11897533, 44.14811118, 44.20754552,\n",
       "         44.29136457, 44.42314591, 44.49090871, 44.491047  , 44.54152407,\n",
       "         44.596056  , 44.60988204, 44.6701174 , 44.70947657, 44.75129395,\n",
       "         44.75373153, 44.75939851, 44.80085016, 44.80398385, 44.83755337,\n",
       "         44.89134681, 44.97317924, 44.99481683, 45.00212681, 45.01377108,\n",
       "         45.06505564, 45.10148506, 45.10591408, 45.18086656, 45.22675423,\n",
       "         45.31034687, 45.32560172, 45.34103228, 45.36968903, 45.43575375,\n",
       "         45.43579948, 45.46763821, 45.78043784, 45.81564639, 45.85649112,\n",
       "         45.89498657, 45.90191161, 45.99026018, 46.00391331, 46.07816659,\n",
       "         46.07900748, 46.10927676, 46.13091982, 46.16207361, 46.20942898,\n",
       "         46.22959852, 46.27788181, 46.30571246, 46.30681225, 46.31695096,\n",
       "         46.35503632, 46.49781052, 46.59234892, 46.64375704, 46.68315548,\n",
       "         46.72883979, 46.77970016, 46.78979376, 46.82368546, 46.90093642,\n",
       "         46.97575289, 46.99369097, 47.03111552, 47.08826748, 47.11182866,\n",
       "         47.16950692, 47.24987003, 47.28329   , 47.31270724, 47.37148637,\n",
       "         47.49437915, 47.51618189, 47.55538247, 47.57526904, 47.59147898,\n",
       "         47.68631672, 47.68866401, 47.72604313, 47.78104026, 47.82468784,\n",
       "         47.87098537, 47.87959996, 47.88683555, 47.92809313, 47.98107416,\n",
       "         47.99409659, 48.10951406, 48.14191968, 48.26804014, 48.33394905,\n",
       "         48.35742684, 48.37730169, 48.38191871, 48.42681588, 48.49805186,\n",
       "         48.53172568, 48.54232702, 48.56677305, 48.57211021, 48.58317389,\n",
       "         48.66303754, 48.73872255, 48.83641524, 48.86482153, 48.91073077,\n",
       "         48.91491528, 48.97098085, 49.08578427, 49.09244005, 49.1117873 ,\n",
       "         49.11710101, 49.11851465, 49.25609907, 49.3471249 , 49.36938179,\n",
       "         49.36963449, 49.37870969, 49.43432715, 49.58854593, 49.67055109,\n",
       "         49.7042636 , 49.71698041, 49.86639905, 49.95063573, 49.95657726,\n",
       "         49.96794496, 50.07171127, 50.1149241 , 50.2388089 , 50.429312  ,\n",
       "         50.43169382, 50.48810863, 50.49152712, 50.6008484 , 50.70408   ,\n",
       "         50.73554187, 50.75746262, 50.77901987, 50.80492601, 50.82458036,\n",
       "         50.86322114, 50.87972389, 50.89050812, 50.92190979, 50.92255532,\n",
       "         50.92807817, 50.9395828 , 50.99899346, 50.99920013, 51.02382361,\n",
       "         51.06495246, 51.08139553, 51.08658884, 51.10954353, 51.21442414,\n",
       "         51.23024763, 51.3060246 , 51.33652687, 51.36145348, 51.49572175,\n",
       "         51.52126902, 51.54625437, 51.5765365 , 51.6622352 , 51.6708159 ,\n",
       "         51.70157738, 51.71427333, 51.73900348, 51.74180754, 51.75123966,\n",
       "         51.84716873, 51.88022224, 51.89530998, 51.91156217, 51.92067001,\n",
       "         52.10733231, 52.18126006, 52.2371009 , 52.24980715, 52.29166383,\n",
       "         52.36791658, 52.46407991, 52.47402416, 52.54929811, 52.65264184,\n",
       "         52.69718608, 52.71000118, 52.73045647, 52.7700985 , 52.81796891,\n",
       "         52.8939725 , 53.01542269, 53.01638929, 53.05656419, 53.08466242,\n",
       "         53.16782269, 53.35722766, 53.42316008, 53.45920451, 53.49178181,\n",
       "         53.51600485, 53.71698879, 53.78835191, 53.85803488, 53.85965793,\n",
       "         54.01460041, 54.19254669, 54.21988417, 54.23107291, 54.27837227,\n",
       "         54.28072408, 54.29336206, 54.33723747, 54.36570231, 54.37984496,\n",
       "         54.51815552, 54.53576103, 54.53883499, 54.54058161, 54.58049186,\n",
       "         54.61995472, 54.6771583 , 54.69748852, 54.70235737, 54.78812991,\n",
       "         54.82046808, 55.05848072, 55.09197982, 55.12521686, 55.28480997,\n",
       "         55.32103029, 55.35075257, 55.43892962, 55.52653313, 55.53958198,\n",
       "         55.5493722 , 55.62973508, 55.75533857, 55.77257045, 55.81724882,\n",
       "         55.83824533, 55.84649041, 55.86036542, 55.90675624, 55.97866484,\n",
       "         56.00435024, 56.02272493, 56.03194998, 56.0641873 , 56.08757602,\n",
       "         56.0902111 , 56.13309732, 56.31937754, 56.36260698, 56.47168448,\n",
       "         56.4974053 , 56.68204003, 56.7171022 , 56.73466344, 56.86060877,\n",
       "         56.87263347, 56.94245731, 56.94391119, 56.99966792, 57.00754938,\n",
       "         57.02456637, 57.03430092, 57.1967894 , 57.29272776, 57.2956819 ,\n",
       "         57.32138137, 57.32479405, 57.36305325, 57.4254565 , 57.43222471,\n",
       "         57.50337912, 57.58169992, 57.59722825, 57.78056845, 57.78233123,\n",
       "         57.8624396 , 57.94089736, 57.98470972, 58.00328154, 58.15794405,\n",
       "         58.19272237, 58.30686377, 58.37981076, 58.41170828, 58.43954581,\n",
       "         58.55060861, 58.66764139, 58.72918842, 58.8192325 , 59.01356063,\n",
       "         59.06135112, 59.08596411, 59.09703767, 59.23332655, 59.29775744,\n",
       "         59.33047202, 59.384302  , 59.43838541, 59.47303082, 59.49217475,\n",
       "         59.55885941, 59.81081699, 60.0187941 , 60.05507104, 60.16450404,\n",
       "         60.37426334, 60.39776953, 60.4851052 , 60.60514489, 60.68863529,\n",
       "         60.85506528, 60.88227598, 60.92099965, 61.16727355, 61.33046284,\n",
       "         61.4823606 , 61.70086549, 61.86092512, 61.96262833, 62.20756684,\n",
       "         62.48764028, 62.7232645 , 62.78548371, 62.96988296, 63.03477631,\n",
       "         63.68612932, 63.71871022, 64.0153469 , 64.08700471, 64.28143947,\n",
       "         64.39165351, 64.43215208, 64.69745837, 64.73455129, 64.79887907,\n",
       "         64.82855429, 64.86900935, 65.09153647, 65.37208632, 66.24105318,\n",
       "         66.42356454, 66.6105465 , 66.75074971, 66.75758056, 67.14180387,\n",
       "         67.36162238, 69.55967505, 71.34154508, 71.91868746, 76.87665718])),\n",
       " (8.69507809977034, 48.9227507976734, 0.999083208567189))"
      ]
     },
     "execution_count": 83,
     "metadata": {},
     "output_type": "execute_result"
    },
    {
     "data": {
      "image/png": "[encoded data removed]",
      "text/plain": [
       "<Figure size 432x288 with 1 Axes>"
      ]
     },
     "metadata": {
      "needs_background": "light"
     },
     "output_type": "display_data"
    }
   ],
   "source": [
    "# after transformation\n",
    "x_transformed, lm = stats.boxcox(x)\n",
    "stats.probplot(x_transformed, dist = stats.norm, plot= plt)"
   ]
  },
  {
   "cell_type": "markdown",
   "metadata": {
    "colab_type": "text",
    "id": "2X66iINLvAun"
   },
   "source": [
    "# 11. [BONUS] Calculate Mean Confidence Interval\n",
    "\n",
    "Check following methods:\n",
    "\n",
    "1. scipy.stats.sem\n",
    "2. scipy.stats.t.ppf"
   ]
  },
  {
   "cell_type": "code",
   "execution_count": 96,
   "metadata": {
    "colab": {
     "base_uri": "https://localhost:8080/",
     "height": 34
    },
    "colab_type": "code",
    "executionInfo": {
     "elapsed": 727,
     "status": "ok",
     "timestamp": 1552693467297,
     "user": {
      "displayName": "Ibrahim Faisal",
      "photoUrl": "",
      "userId": "02685917636347920688"
     },
     "user_tz": -660
    },
    "id": "RbRSVOnlmxUC",
    "outputId": "6cca7647-c0cb-4ba6-fc35-8596a2d40591"
   },
   "outputs": [
    {
     "data": {
      "text/plain": [
       "(30.476190476190474, 41.41281987079756, 19.539561081583383)"
      ]
     },
     "execution_count": 96,
     "metadata": {},
     "output_type": "execute_result"
    }
   ],
   "source": [
    "import numpy as np\n",
    "import scipy.stats\n",
    "\n",
    "\n",
    "def mean_confidence_interval(data, confidence=0.95):\n",
    "    # Calculate m, h\n",
    "    m, se = 0, 0\n",
    "    h = 0\n",
    "    n = len(data)\n",
    "    m = np.mean(data)\n",
    "    se = stats.sem(data)\n",
    "    h = se * scipy.stats.t.ppf((1-confidence) / 2, n-1)\n",
    "    return m, m-h, m+h\n",
    "\n",
    "data = [21,22,23,4,5,6,77,8,9,10,31,32,33,34,35,36,37,18,49,50,100]\n",
    "mean_confidence_interval(data)"
   ]
  },
  {
   "cell_type": "code",
   "execution_count": 88,
   "metadata": {},
   "outputs": [
    {
     "name": "stdout",
     "output_type": "stream",
     "text": [
      "[ 21.  22.  23.   4.   5.   6.  77.   8.   9.  10.  31.  32.  33.  34.\n",
      "  35.  36.  37.  18.  49.  50. 100.]\n"
     ]
    },
    {
     "data": {
      "text/plain": [
       "list"
      ]
     },
     "execution_count": 88,
     "metadata": {},
     "output_type": "execute_result"
    }
   ],
   "source": []
  },
  {
   "cell_type": "markdown",
   "metadata": {
    "colab_type": "text",
    "id": "6r9IVMcopfhs"
   },
   "source": [
    "\n",
    "\n",
    "---\n",
    "\n",
    "\n",
    "\n",
    "---\n",
    "\n",
    "\n",
    "\n",
    "> > > > > > > > > © 2019 Institute of Data\n",
    "\n",
    "\n",
    "---\n",
    "\n",
    "\n",
    "\n",
    "---\n",
    "\n",
    "\n",
    "\n"
   ]
  }
 ],
 "metadata": {
  "colab": {
   "collapsed_sections": [],
   "name": "Lab 1.1.4 Statistics - part 2 Lab.ipynb",
   "provenance": [
    {
     "file_id": "https://github.com/ikfaisal/dsia/blob/master/Statistics_part_2.ipynb",
     "timestamp": 1552461263669
    }
   ]
  },
  "kernelspec": {
   "display_name": "Python 3",
   "language": "python",
   "name": "python3"
  },
  "language_info": {
   "codemirror_mode": {
    "name": "ipython",
    "version": 3
   },
   "file_extension": ".py",
   "mimetype": "text/x-python",
   "name": "python",
   "nbconvert_exporter": "python",
   "pygments_lexer": "ipython3",
   "version": "3.8.3"
  }
 },
 "nbformat": 4,
 "nbformat_minor": 1
}
